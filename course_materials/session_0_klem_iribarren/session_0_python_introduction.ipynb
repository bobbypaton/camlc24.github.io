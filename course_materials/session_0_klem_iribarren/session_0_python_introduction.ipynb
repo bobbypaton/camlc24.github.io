{
 "cells": [
  {
   "cell_type": "markdown",
   "id": "0a58c66f-8986-4010-9fe4-89ed61dc6c56",
   "metadata": {},
   "source": [
    "# Session 0: Python and its Scientific Modules\n",
    "---\n",
    "Questions:\n",
    "- \"How do I install and use Python modules?\"\n",
    "- \"How do I interact with Python code?\"\n",
    "- \"What are some popular scientific Python packages?\"\n",
    "\n",
    "Objectives:\n",
    "- \"Ensure students can access a Linux terminal and have basic requirements installed.\"\n",
    "- \"Understand how Python packages are distributed and the benefits of environment management.\"\n",
    "- \"Understand how to import Python packages or call them via the command line interface.\"\n",
    "\n",
    "---\n",
    "\n",
    "<div class=\"alert alert-block alert-success\">\n",
    "<b>Interactive Check Point:</b>\n",
    "    \n",
    "Throughout this notebook you will find these boxes. These checkpoints will give you a coding prompt and encourage you to think about what will happen before you try. This process will help increase your Python comprehension as you learn. </div>\n",
    "\n",
    "---"
   ]
  },
  {
   "cell_type": "markdown",
   "id": "8d07c418-3201-4f8d-8274-b9e681b96b21",
   "metadata": {},
   "source": [
    "### Instructor notes (remove before merging to CAMLC24)\n",
    "\n",
    "I think we can use the Molecular Sciences Software Institute's free courses on [Python Scripting for Computational Molecular Science](https://education.molssi.org/python_scripting_cms/01-introduction/index.html) and [Python Package Best Practives](https://education.molssi.org/python-package-best-practices/) to build a lot of this material\n",
    "\n",
    "**IIA**: Maybe some of the code boxes I ahve included could be executable boxes so the students can actually execute them and see the output? instead of 'spoiling' the result? "
   ]
  },
  {
   "cell_type": "markdown",
   "id": "aa6853c2-b5c6-40cd-9ad7-d61bb4e449d9",
   "metadata": {},
   "source": [
    "## 0.1. Module and library imports"
   ]
  },
  {
   "cell_type": "code",
   "execution_count": null,
   "id": "987bfd8f-5515-450f-9d98-e4e4450b0bc9",
   "metadata": {},
   "outputs": [],
   "source": [
    "# It is best practice to import all modules at the top of your file\n",
    "\n",
    "# It is also best practice to be liberal with comments, so if you come \n",
    "#  back to the code or someone else tries to read your code it is more \n",
    "#  easily understood.\n",
    "\n",
    "# To make the code easier to look at the sentence above was separated into new \n",
    "#  new lines. How you decide to format things like that is personal preference.\n",
    "\n",
    "import numpy #https://numpy.org\n",
    "import matplotlib #https://matplotlib.org\n",
    "import rdkit #http://www.rdkit.org/docs/index.html\n",
    "import pandas #https://pandas.pydata.org/docs/getting_started/index.html"
   ]
  },
  {
   "cell_type": "markdown",
   "id": "d25f9518-c72a-4a1f-a5e5-8851f88683c2",
   "metadata": {},
   "source": [
    "If you receive a \"ModuleNotFoundError\" message, try executing in a new cell \n",
    "> pip install \\\\$module \n",
    "\n",
    "where \\\\$module is the name of the module not found."
   ]
  },
  {
   "cell_type": "markdown",
   "id": "db9f0f02-3293-48a1-b33c-69287480a81e",
   "metadata": {},
   "source": [
    "## 0.2 Package installation and environment management"
   ]
  },
  {
   "cell_type": "markdown",
   "id": "8ba55ecf-dd2d-4c57-a8e1-3c01315346b1",
   "metadata": {},
   "source": [
    "There are a variety of ways to install packages. You can install the source code from the associated website, or from a GitHub repository, or from a distribution platform. PIP is an example of a Python package manager and distribution platform. You can peruse the Python packages available for installation via PIP on the [Python Package Index (PyPI) distribution platform](https://pypi.org).\n",
    "\n",
    "[Anaconda](https://anaconda.org) (also see [miniconda](https://docs.anaconda.com/free/miniconda/)) is also a package manager, but it is much more than that. Besides installing and updating packages Anaconda also creates and manages virtual environments. You can think of a virtual environment as a new computer, independent of any other environment on the computer. This becomes very important if a package you want to use requires a specific version of another package (for example, maybe it requires a Python version < 3.0), but you have other packages that require other versions of Python. You can use the conda create command to create a virtual environment that is tailored to the dependency requirements of specific packages or systems. If the package has been distributed on Anaconda you will be able to find conda installation instructions for it. Or you can also use pip to install the package- just make sure you are using the pip assigned to your conda environment (this can be checked by running which pip and making sure it is located in the path of your conda environment). Lastly, Anaconda supports management for non-Python packages, so it is much broader that pip/PyPi which is only Python.\n",
    "\n",
    "When working on shared computing resources it is often required to use virtual environmets by using conda or venv. [venv](https://docs.python.org/3/library/venv.html) is solely a virtual environment manager and can be used similarly to Anaconda, however, it is only for managing Python packages. "
   ]
  },
  {
   "cell_type": "markdown",
   "id": "3dc3a551",
   "metadata": {},
   "source": [
    "## 0.3 Python basics"
   ]
  },
  {
   "cell_type": "markdown",
   "id": "0640646b",
   "metadata": {},
   "source": [
    "### Variables and print statements\n",
    "\n",
    "We can assign different types of values to a variable like your name (*string*), age (*integer*) or your height (*float*).\n",
    "\n",
    "```python\n",
    "name = 'Pepito Jimenez'\n",
    "age = 53 #years\n",
    "height = 1.73 #meters\n",
    "```\n",
    "\n",
    "Keep units in mind when you are writing Python code that deals with numerical values. We recommend using comments to remind yourself (and others who may read/use your code) what units you are working with!\n",
    "\n",
    "We can also do any type of mathematical operation with these variables and also show the results of these operations with print statements: (`print($variable)`)."
   ]
  },
  {
   "cell_type": "code",
   "execution_count": null,
   "id": "7f2427e2-8b93-47c2-880b-ada86ac6fb7d",
   "metadata": {},
   "outputs": [],
   "source": [
    "pizza = 12.7 #EUR\n",
    "white_wine = 27.8 #EUR\n",
    "cheesecake = 5.3 #EUR\n",
    "\n",
    "total_price = pizza + white_wine + cheesecake\n",
    "\n",
    "print(f'Total price of dinner is: {total_price} EUR')"
   ]
  },
  {
   "cell_type": "markdown",
   "id": "15726a7a-36f3-49ea-9d23-5c1c96318d0b",
   "metadata": {},
   "source": [
    "Let's say we find a half-off coupon for the pizza (yay!). We can simply re-assign the variable `pizza` to a new value."
   ]
  },
  {
   "cell_type": "code",
   "execution_count": null,
   "id": "22a550d5-1592-40a2-8738-18271b78c005",
   "metadata": {},
   "outputs": [],
   "source": [
    "pizza = 12.7/2 #EUR"
   ]
  },
  {
   "cell_type": "markdown",
   "id": "68a01eef-8f9d-4edb-a5c0-e6b5ea1558d2",
   "metadata": {},
   "source": [
    "<div class=\"alert alert-block alert-success\">\n",
    "<b>Interactive Check Point:</b>\n",
    "    \n",
    "What do you think will happen now if we execute `print(f'Total price of dinner is: {total_price} EUR')`? Try this in a new cell below. What did you learn?"
   ]
  },
  {
   "cell_type": "markdown",
   "id": "31507876-9af5-43bd-96ec-7aba7063227a",
   "metadata": {},
   "source": [
    "### Data structures"
   ]
  },
  {
   "cell_type": "markdown",
   "id": "5c383183-0caf-4598-afab-6dcea163721a",
   "metadata": {},
   "source": [
    "There are also other types of data that you can store in variables\n",
    "- **lists** \n",
    "    - *Mutable*\n",
    "    - ordered \n",
    "    - Defined in between `[]` or `list()`\n",
    "- **tuples**\n",
    "    - *Immutable*\n",
    "    - ordered \n",
    "    - Defined in between `()` or `tuple()`\n",
    "- **dictionaries** \n",
    "    - *Mutable*\n",
    "    - unordered \n",
    "    - Defined in between `{}` or `dict()` with str(key):value pairings\n",
    "    - unique keys\n",
    "- **sets** \n",
    "    - *Immutable*\n",
    "    - unordered \n",
    "    - Defined in between `{}` or `set()`\n",
    "    - unique elements"
   ]
  },
  {
   "cell_type": "code",
   "execution_count": null,
   "id": "8d865ad6-604d-4ae4-8586-bbafe2b5b669",
   "metadata": {},
   "outputs": [],
   "source": [
    "list_example = ['Pepito Jimenez', 'John Smith', 'Patricia Summers']                 # List of names\n",
    "tuple_example = ('Pepito Jimenez', 'John Smith', 'Patricia Summers')                # Tuple of names\n",
    "dictionary_example = {'Pepito Jimenez':53, 'John Smith':27, 'Patricia Summers':32}  # Dictionary of names and their corresponding age\n",
    "set_example = {'Pepito Jimenez', 'John Smith', 'Patricia Summers'}  "
   ]
  },
  {
   "cell_type": "markdown",
   "id": "55d04979-f3dc-4da8-83c1-d0111582535d",
   "metadata": {},
   "source": [
    "It is possible to refer to the values in a list using their index. \n",
    "Python is a \"zero-indexed\" language, meaning indices start at `0` for the first element of the array.\n",
    "So, in order to print the second element of the list of names we defined we should refer to index `1`\n",
    "\n",
    "\n",
    "We can also refer to several indexes using a `:` and 1 or 2 indexes, known as slices:\n",
    "- `list_name[1:4]` would extract the second, third and forth element of the list (upper limit or the range is not extracted).\n",
    "- `list_name[:4]` would extract all the data from the beginning of the list until the forth element.\n",
    "- `list_name[1:]` would extract all the data from the second element to the end of the list."
   ]
  },
  {
   "cell_type": "code",
   "execution_count": null,
   "id": "f431d854-1f7b-4683-9721-105072ae8a9e",
   "metadata": {},
   "outputs": [],
   "source": [
    "print(list_example[1])"
   ]
  },
  {
   "cell_type": "markdown",
   "id": "a2ae2b4d-64ef-4c70-82e4-f68fce333faf",
   "metadata": {},
   "source": [
    "It is also posible to use negative index in order to start counting from the end of the list. \n",
    "The last element of the list has index `-1`."
   ]
  },
  {
   "cell_type": "code",
   "execution_count": null,
   "id": "3a7a78c6-3355-4f00-8476-0359b0531403",
   "metadata": {},
   "outputs": [],
   "source": [
    "print(list_example[-1])"
   ]
  },
  {
   "cell_type": "markdown",
   "id": "21473bd0-1328-4372-be2a-8d85957c5715",
   "metadata": {
    "jp-MarkdownHeadingCollapsed": true
   },
   "source": [
    "<div class=\"alert alert-block alert-success\">\n",
    "<b>Interactive Check Point:</b>\n",
    "Try to print the first element in the other data structure examples: `tuple_example`, `dictionary_example`, `set_example`. What did you learn?"
   ]
  },
  {
   "cell_type": "markdown",
   "id": "3f8bd5a3-684a-4f4a-893f-90358898082c",
   "metadata": {},
   "source": [
    "<div class=\"alert alert-block alert-info\">\n",
    "<b>Note:</b>\n",
    "In Python 3.6.0 and later versions, dictionaries remember the order of element insertions. Keep that in mind to avoid compatibility issues when using the same code in different versions of Python."
   ]
  },
  {
   "cell_type": "markdown",
   "id": "3d8d8500",
   "metadata": {},
   "source": [
    "\n",
    "### For loops\n",
    "\n",
    "For loops are used to do something a *N* number of times or iterate array variables aforementioned to perform an action for every element on that array.\n",
    "\n",
    "#### Basic example:"
   ]
  },
  {
   "cell_type": "code",
   "execution_count": null,
   "id": "4b89bd4e-7d1f-45a5-8052-b5f54466fb21",
   "metadata": {},
   "outputs": [],
   "source": [
    "for name in list_example:\n",
    "    print(name)"
   ]
  },
  {
   "cell_type": "markdown",
   "id": "2f81263e-69a5-4253-9035-b817f7006e19",
   "metadata": {},
   "source": [
    "It is often helpful to keep track of the number of iterations the loop has gone through. There are two ways to do this shown below."
   ]
  },
  {
   "cell_type": "markdown",
   "id": "9ba01574-d82d-4eef-9bf9-3198e5f05d60",
   "metadata": {},
   "source": [
    "> Method 1: set a count variable and update it in the loop"
   ]
  },
  {
   "cell_type": "code",
   "execution_count": null,
   "id": "4130f7c8-7c98-42ed-a6b5-939072a00702",
   "metadata": {},
   "outputs": [],
   "source": [
    "count = 0\n",
    "for name in list_example:\n",
    "    print(count, name)\n",
    "    count += 1"
   ]
  },
  {
   "cell_type": "markdown",
   "id": "9b51b84d-2230-4770-910f-c1dbe329057f",
   "metadata": {},
   "source": [
    "> Method 2: use the builtin Python `enumerate()` function"
   ]
  },
  {
   "cell_type": "code",
   "execution_count": null,
   "id": "5f983ba7-a48e-4390-a2c6-f07474e79444",
   "metadata": {},
   "outputs": [],
   "source": [
    "for count, name in enumerate(list_example):\n",
    "    print(count, name)"
   ]
  },
  {
   "cell_type": "markdown",
   "id": "e62e7cb3-cff9-4000-9dd3-abc3bbffdc85",
   "metadata": {},
   "source": [
    "Both give the same result, but enumerate allows us to accomplish the same task with less lines of code, which is often favorable!"
   ]
  },
  {
   "cell_type": "markdown",
   "id": "41b9ff9b-baf5-46be-893a-98d54fb1652e",
   "metadata": {},
   "source": [
    "#### Scientific example:"
   ]
  },
  {
   "cell_type": "code",
   "execution_count": null,
   "id": "1d7f9fb4-f047-4277-a21d-8947b17d0135",
   "metadata": {},
   "outputs": [],
   "source": [
    "energies_kcal = [3.24, 6.12, 9.65]          # List of energies in kcal\n",
    "energies_kj = []                            # Empty list of energies in kJ\n",
    "conversion_factor = 4.184                   # Conversion factor from kcal to kj\n",
    "\n",
    "for energy in energies_kcal:\n",
    "    energy_kj = energy * conversion_factor\n",
    "    energies_kj.append(energy_kj)           # Append the converted energy to the kJ list of energies\n",
    "\n",
    "print(energies_kj)"
   ]
  },
  {
   "cell_type": "markdown",
   "id": "c900290f",
   "metadata": {},
   "source": [
    "### Logic statements\n",
    "\n",
    "Logic statements are used to compare different pairs of data and perform an action only if the statement is `True`.\n",
    "Several types of logic operations can be performed:\n",
    "- Equal to `==` checks if two values are identical\n",
    "- Not equal to `!=` checks if two values are different\n",
    "- Greater than `>`\n",
    "- Less than `<`\n",
    "- Greater or equal `>=`\n",
    "- Less or equal `<=`\n",
    "\n",
    "Several of these statements can be combined to create more complex conditions by using the following formulas \n",
    "- `and` checks that both conditions are matched\n",
    "- `or` checks that one or the other statements are **True**\n",
    "- `not` checks that the first contidion is matched but the later is not.\n",
    "\n",
    "The basic syntax of these statemets is\n",
    "```python\n",
    "if variable == value:             # some logic statement\n",
    "    # Do something\n",
    "else:                             # if statement above is false\n",
    "    # Do something\n",
    "```\n",
    "\n",
    "Using the variables we created above to define Pepito Jimenez we can check several conditinos. "
   ]
  },
  {
   "cell_type": "code",
   "execution_count": null,
   "id": "1f545018-e570-4db0-9a2e-23658a2f8f1a",
   "metadata": {},
   "outputs": [],
   "source": [
    "name = 'Pepito Jimenez'\n",
    "age = 53\n",
    "height = 1.73\n",
    "\n",
    "if name == 'Pepito Jimenez':\n",
    "    print('This person is Pepito Jimenez')\n",
    "else:\n",
    "    print('This person is not Pepito Jimenez')"
   ]
  },
  {
   "cell_type": "markdown",
   "id": "f3238a9c-d483-44fa-8b57-44fe1863ee81",
   "metadata": {},
   "source": [
    "We can write a more complex statement to check, for example, if he is older than 50 and shorter than 1.80m"
   ]
  },
  {
   "cell_type": "code",
   "execution_count": null,
   "id": "eca3157e-41ad-437c-9cff-d324c466c91a",
   "metadata": {},
   "outputs": [],
   "source": [
    "if age > 50 and height < 1.80:\n",
    "    print(f'{name} is older than 50 and shorter than 1.80m')\n",
    "else:\n",
    "    print(f'{name} is either younger than 50, taller than 1.80m or both.')"
   ]
  },
  {
   "cell_type": "markdown",
   "id": "60d2191b",
   "metadata": {},
   "source": [
    "### Functions\n",
    "\n",
    "A python function is a body of code that performs a specific task. \n",
    "\n",
    "The common structure of a function definition is:\n",
    "```python\n",
    "def function_name(args):\n",
    "    # Code\n",
    "\n",
    "    return value\n",
    "```\n",
    "\n",
    "Sometimes, certain pieces of code are very common and repeated several times in our scripts. A good example of this is converting units like we did before.\n",
    "\n",
    "It is good practice to turn repetitive code into a function to:\n",
    "1. save time\n",
    "2. reduce the number of lines in code\n",
    "3. avoid having to modify code in multiple locations\n",
    "\n",
    "In the energy conversion example, we can define a function that takes an energy value in kcal as an argument and returns the same energy in kJ."
   ]
  },
  {
   "cell_type": "code",
   "execution_count": null,
   "id": "4c078418-3b1b-41e0-b58c-9b064fad9fbb",
   "metadata": {},
   "outputs": [],
   "source": [
    "def kcal_to_kj(energy):\n",
    "    \"\"\"\n",
    "    Convert energy in kcal to kJ.\n",
    "\n",
    "    Parameters\n",
    "    -----------\n",
    "    energy: float, required. Energy value to be converted.\n",
    "\n",
    "    Returns\n",
    "    --------\n",
    "    Energy in kJ units\n",
    "    \"\"\"\n",
    "    conversion_factor = 4.184 # Conversion factor from kcal to kj\n",
    "    energy_kj = energy * conversion_factor\n",
    "\n",
    "    return energy_kj"
   ]
  },
  {
   "cell_type": "markdown",
   "id": "8c604b15-7767-4a66-93ba-d4239a3f247d",
   "metadata": {},
   "source": [
    "The red text contains in the triple quotations is called a docstring. Docstrings are used to document what the function does, what parameters (if any) it accepts, and what (if any) values are returned. Executing the cell above does nothing because we are just defining the function. We must actually call the function to activate it, as shown below."
   ]
  },
  {
   "cell_type": "code",
   "execution_count": null,
   "id": "89126734-b15d-416c-bada-5b08bce9826c",
   "metadata": {},
   "outputs": [],
   "source": [
    "for energy in energies_kcal:\n",
    "    energies_kj.append(kcal_to_kj(energy))           # Append the converted energy to the kJ list of energies\n",
    "print(energies_kj)"
   ]
  },
  {
   "cell_type": "markdown",
   "id": "5b9e3293-0622-406e-abcd-00642408a655",
   "metadata": {},
   "source": [
    "Functions are very important to keep our code as clean and organised as possible and require extensive commenting and documentation to explain their functionality and make them readible for future developers (and future versions of ourselves). You can pass a function name to Python's built-in `help()` function to print its docstring."
   ]
  },
  {
   "cell_type": "markdown",
   "id": "2c5b6d3b-dfa0-4888-81cf-cb72248c9ad9",
   "metadata": {},
   "source": [
    "<div class=\"alert alert-block alert-success\">\n",
    "<b>Interactive Check Point:</b>\n",
    "\n",
    "Print the docstring of our newly created function below."
   ]
  },
  {
   "cell_type": "markdown",
   "id": "c188e424",
   "metadata": {},
   "source": [
    "### File parsing\n",
    "\n",
    "In computational chemistry we deal with many plain text files as most of the software we use write the output of their calculations in this format.\n",
    "For that reason, having code to read these files and automatically extract the information we need is extremelly useful.\n",
    "\n",
    "There are several ways of reading a file and storing its lines in a variable.\n",
    "The two most common ones are:\n",
    "\n",
    "> Method 1:\n",
    "> ``` python\n",
    "> o_file = open(filename,'r')\n",
    ">text = o_file.readlines()\n",
    ">ofile.close()\n",
    ">```\n",
    "\n",
    "> Method 2:\n",
    "> ``` python\n",
    "> with open(filename,'r') as o_file:\n",
    ">     |text = o_file.readlines()\n",
    ">```\n",
    "\n",
    "The `r` argument in the `open()` function stands for read. Other arguments might be `w` for write if we want to write new information to the file, or `a` for append if we want to add new information at the end of the file.\n",
    "\n",
    "The `readlines()` function converts the file contents to a list of strings. Notice the dot notation; readlines acts on the file object given right before the dot. The function returns a list where each element of the list is a string corresponding to each line of the file."
   ]
  },
  {
   "cell_type": "code",
   "execution_count": null,
   "id": "d423a58a-7560-4f84-ab35-786386c01994",
   "metadata": {},
   "outputs": [],
   "source": [
    "filename = 'struc.xyz'\n",
    "with open(filename,'r') as o_file:\n",
    "    lines = o_file.readlines()\n",
    "\n",
    "print(\"First 4 lines: \", lines[:5])\n",
    "print(\"Split line 3: \", lines[2].split())"
   ]
  },
  {
   "cell_type": "markdown",
   "id": "69aed108-b384-4bc6-aadb-6bd22294de99",
   "metadata": {},
   "source": [
    "<div class=\"alert alert-block alert-success\">\n",
    "<b>Interactive Check Point:</b>\n",
    "\n",
    "In the cell below, save the atoms in `struc.xyz` to a list."
   ]
  },
  {
   "cell_type": "markdown",
   "id": "cdc57bab-8057-4b96-9b01-41e1197fc162",
   "metadata": {},
   "source": [
    "There are several operations that are very common when parsing these kinds of files:\n",
    "- Extracting the **first** match of the desired pattern\n",
    "- Extracting the **last** match of the desired pattern\n",
    "- Extracting **all** the matched of the desired pattern\n",
    "\n",
    "For that, the following functions are very useful:\n",
    "\n",
    "```python\n",
    "def find_all(text, target):\n",
    "    data = []\n",
    "    for line in text:\n",
    "        if target in line:\n",
    "            data.append(line)\n",
    "    return data\n",
    "```\n",
    "\n",
    "This will return a list of lines that contain the desired target.\n",
    "However, this lines will still be plain text of the form `@DF-RHF SCFEnergy:  -154.09130176573018`. \n",
    "We can use the built in function `split` to separate this text by the desired character (default is a space).\n",
    "\n",
    "```python\n",
    "line = '@DF-RHF Final Energy:  -154.09130176573018'\n",
    "elements = line.split()\n",
    "print(elements)\n",
    "```\n",
    "\n",
    "```output\n",
    "['@DF-RHF', 'SCFEnergy:', '-154.09130176573018']\n",
    "```\n",
    "\n",
    "If we select a different character instead of the default space, we would obtain a different partition.\n",
    "For example using `:` we would obtain\n",
    "\n",
    "```python\n",
    "line = '@DF-RHF Final Energy:  -154.09130176573018'\n",
    "elements = line.split(':')\n",
    "print(elements)\n",
    "```\n",
    "\n",
    "```output\n",
    "['@DF-RHF SCFEnergy', '-154.09130176573018']\n",
    "```\n",
    "\n",
    "Now, using the previously learned slices, we can extract only the energy value as\n",
    "\n",
    "```python\n",
    "line = '@DF-RHF Final Energy:  -154.09130176573018'\n",
    "elements = line.split(':')\n",
    "energy = elements[-1]\n",
    "print(energy)\n",
    "```\n",
    "```output\n",
    "'-154.09130176573018'\n",
    "```\n",
    "\n"
   ]
  },
  {
   "cell_type": "markdown",
   "id": "67093c1b",
   "metadata": {},
   "source": [
    "#### Exercise 1\n",
    "\n",
    "With all examples above, create a function that extracts only the last match of the `SCFEnergy` target in a file, extracts the energy from the line and converts it from the default units (*a.u.*) to *kcal/mol*."
   ]
  }
 ],
 "metadata": {
  "kernelspec": {
   "display_name": "Python 3 (ipykernel)",
   "language": "python",
   "name": "python3"
  },
  "language_info": {
   "codemirror_mode": {
    "name": "ipython",
    "version": 3
   },
   "file_extension": ".py",
   "mimetype": "text/x-python",
   "name": "python",
   "nbconvert_exporter": "python",
   "pygments_lexer": "ipython3",
   "version": "3.11.0"
  }
 },
 "nbformat": 4,
 "nbformat_minor": 5
}
