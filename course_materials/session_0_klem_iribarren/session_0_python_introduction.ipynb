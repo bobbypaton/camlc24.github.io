{
 "cells": [
  {
   "cell_type": "markdown",
   "id": "0a58c66f-8986-4010-9fe4-89ed61dc6c56",
   "metadata": {},
   "source": [
    "# Session 0: Python and its Scientific Modules\n",
    "---\n",
    "Questions:\n",
    "- \"How do I install and use Python modules?\"\n",
    "- \"How do I interact with Python code?\"\n",
    "- \"What are some popular scientific Python packages?\"\n",
    "\n",
    "Objectives:\n",
    "- \"Ensure students can access a Linux terminal and have basic requirements installed.\"\n",
    "- \"Understand how Python packages are distributed and the benefits of environment management.\"\n",
    "- \"Understand how to import Python packages or call them via the command line interface.\"\n",
    "- \"Become familiar with Python basics like variables, common data structures, loops, logic, functions, and text parsing.\"\n",
    "- \"Introduction to Pandas DataFrames and Matplotlib\"\n",
    "- \"Introduction to about Git and GitHub\"\n",
    "\n",
    "---\n",
    "\n",
    "<div class=\"alert alert-block alert-success\">\n",
    "<b>Interactive Check Point:</b>\n",
    "    \n",
    "Throughout this notebook you will find these boxes. These checkpoints will give you a coding prompt and encourage you to think about what will happen before you try. This process will help increase your Python comprehension as you learn. </div>\n",
    "\n",
    "---"
   ]
  },
  {
   "cell_type": "markdown",
   "id": "8d07c418-3201-4f8d-8274-b9e681b96b21",
   "metadata": {},
   "source": [
    "\n",
    "**IIA**: Maybe some of the code boxes I ahve included could be executable boxes so the students can actually execute them and see the output? instead of 'spoiling' the result? \n",
    "\n",
    "**HK**: I added these interactive check points, what do you think? I envision we will clear the notebook outputs then send the notebook out to all the students and they will be able to follow along."
   ]
  },
  {
   "cell_type": "markdown",
   "id": "aa6853c2-b5c6-40cd-9ad7-d61bb4e449d9",
   "metadata": {},
   "source": [
    "## 0.1. Module and library imports"
   ]
  },
  {
   "cell_type": "code",
   "execution_count": 1,
   "id": "987bfd8f-5515-450f-9d98-e4e4450b0bc9",
   "metadata": {},
   "outputs": [],
   "source": [
    "# It is best practice to import all modules at the top of your file\n",
    "\n",
    "# It is also best practice to be liberal with comments, so if you come \n",
    "#  back to the code or someone else tries to read your code it is more \n",
    "#  easily understood.\n",
    "\n",
    "# To make the code easier to look at the sentence above was separated into new \n",
    "#  new lines. How you decide to format things like that is personal preference.\n",
    "\n",
    "import numpy as np #https://numpy.org\n",
    "import matplotlib.pyplot as plt #https://matplotlib.org\n",
    "import pandas as pd #https://pandas.pydata.org/docs/getting_started/index.html"
   ]
  },
  {
   "cell_type": "markdown",
   "id": "d25f9518-c72a-4a1f-a5e5-8851f88683c2",
   "metadata": {},
   "source": [
    "If you receive a \"ModuleNotFoundError\" message, try executing in a new cell \n",
    "> pip install \\\\$module \n",
    "\n",
    "where \\\\$module is the name of the module not found."
   ]
  },
  {
   "cell_type": "markdown",
   "id": "db9f0f02-3293-48a1-b33c-69287480a81e",
   "metadata": {},
   "source": [
    "## 0.2 Package installation and environment management"
   ]
  },
  {
   "cell_type": "markdown",
   "id": "8ba55ecf-dd2d-4c57-a8e1-3c01315346b1",
   "metadata": {},
   "source": [
    "There are a variety of ways to install packages. You can install the source code from the associated website, or from a GitHub repository, or from a distribution platform. PIP is an example of a Python package manager and distribution platform. You can peruse the Python packages available for installation via PIP on the [Python Package Index (PyPI) distribution platform](https://pypi.org).\n",
    "\n",
    "[Anaconda](https://anaconda.org) (also see [miniconda](https://docs.anaconda.com/free/miniconda/)) is also a package manager, but it is much more than that. Besides installing and updating packages Anaconda also creates and manages virtual environments. You can think of a virtual environment as a new computer, independent of any other environment on the computer. This becomes very important if a package you want to use requires a specific version of another package (for example, maybe it requires a Python version < 3.0), but you have other packages that require other versions of Python. You can use the conda create command to create a virtual environment that is tailored to the dependency requirements of specific packages or systems. If the package has been distributed on Anaconda you will be able to find conda installation instructions for it. Or you can also use pip to install the package- just make sure you are using the pip assigned to your conda environment (this can be checked by running which pip and making sure it is located in the path of your conda environment). Lastly, Anaconda supports management for non-Python packages, so it is much broader that pip/PyPi which is only Python.\n",
    "\n",
    "When working on shared computing resources it is often required to use virtual environmets by using conda or venv. [venv](https://docs.python.org/3/library/venv.html) is solely a virtual environment manager and can be used similarly to Anaconda, however, it is only for managing Python packages. "
   ]
  },
  {
   "cell_type": "markdown",
   "id": "3dc3a551",
   "metadata": {},
   "source": [
    "## 0.3 Python basics"
   ]
  },
  {
   "cell_type": "markdown",
   "id": "0640646b",
   "metadata": {
    "tags": [],
    "toc-hr-collapsed": true
   },
   "source": [
    "### Variables and print statements\n",
    "\n",
    "We can assign different types of values to a variable like your name (*string*), age (*integer*) or your height (*float*).\n",
    "\n",
    "```python\n",
    "name = 'Pepito Jimenez'\n",
    "age = 53 #years\n",
    "height = 1.73 #meters\n",
    "```\n",
    "\n",
    "Keep units in mind when you are writing Python code that deals with numerical values. We recommend using comments to remind yourself (and others who may read/use your code) what units you are working with!\n",
    "\n",
    "We can also do any type of mathematical operation with these variables and also show the results of these operations with print statements: (`print($variable)`)."
   ]
  },
  {
   "cell_type": "code",
   "execution_count": 2,
   "id": "7f2427e2-8b93-47c2-880b-ada86ac6fb7d",
   "metadata": {},
   "outputs": [
    {
     "name": "stdout",
     "output_type": "stream",
     "text": [
      "Total price of dinner is: 45.8 EUR\n"
     ]
    }
   ],
   "source": [
    "pizza = 12.7 #EUR\n",
    "white_wine = 27.8 #EUR\n",
    "cheesecake = 5.3 #EUR\n",
    "\n",
    "total_price = pizza + white_wine + cheesecake\n",
    "\n",
    "print(f'Total price of dinner is: {total_price} EUR')"
   ]
  },
  {
   "cell_type": "markdown",
   "id": "15726a7a-36f3-49ea-9d23-5c1c96318d0b",
   "metadata": {},
   "source": [
    "Let's say we find a half-off coupon for the pizza (yay!). We can simply re-assign the variable `pizza` to a new value."
   ]
  },
  {
   "cell_type": "code",
   "execution_count": 3,
   "id": "22a550d5-1592-40a2-8738-18271b78c005",
   "metadata": {},
   "outputs": [],
   "source": [
    "pizza = 12.7/2 #EUR"
   ]
  },
  {
   "cell_type": "markdown",
   "id": "68a01eef-8f9d-4edb-a5c0-e6b5ea1558d2",
   "metadata": {},
   "source": [
    "<div class=\"alert alert-block alert-success\">\n",
    "<b>Interactive Check Point:</b>\n",
    "    \n",
    "What do you think will happen now if we execute `print(f'Total price of dinner is: {total_price} EUR')`? Try this in a new cell below. What did you learn?"
   ]
  },
  {
   "cell_type": "markdown",
   "id": "31507876-9af5-43bd-96ec-7aba7063227a",
   "metadata": {},
   "source": [
    "### Data structures"
   ]
  },
  {
   "cell_type": "markdown",
   "id": "5c383183-0caf-4598-afab-6dcea163721a",
   "metadata": {},
   "source": [
    "There are also other types of data that you can store in variables\n",
    "- **lists** \n",
    "    - *Mutable*\n",
    "    - ordered \n",
    "    - Defined in between `[]` or `list()`\n",
    "- **tuples**\n",
    "    - *Immutable*\n",
    "    - ordered \n",
    "    - Defined in between `()` or `tuple()`\n",
    "- **dictionaries** \n",
    "    - *Mutable*\n",
    "    - unordered \n",
    "    - Defined in between `{}` or `dict()` with str(key):value pairings\n",
    "    - unique keys\n",
    "- **sets** \n",
    "    - *Immutable*\n",
    "    - unordered \n",
    "    - Defined in between `{}` or `set()`\n",
    "    - unique elements"
   ]
  },
  {
   "cell_type": "code",
   "execution_count": 4,
   "id": "8d865ad6-604d-4ae4-8586-bbafe2b5b669",
   "metadata": {},
   "outputs": [],
   "source": [
    "list_example = ['Pepito Jimenez', 'John Smith', 'Patricia Summers']                 # List of names\n",
    "tuple_example = ('Pepito Jimenez', 'John Smith', 'Patricia Summers')                # Tuple of names\n",
    "dictionary_example = {'Pepito Jimenez':53, 'John Smith':27, 'Patricia Summers':32}  # Dictionary of names and their corresponding age\n",
    "set_example = {'Pepito Jimenez', 'John Smith', 'Patricia Summers'}  "
   ]
  },
  {
   "cell_type": "markdown",
   "id": "55d04979-f3dc-4da8-83c1-d0111582535d",
   "metadata": {},
   "source": [
    "It is possible to refer to the values in a list using their index. \n",
    "Python is a \"zero-indexed\" language, meaning indices start at `0` for the first element of the array.\n",
    "So, in order to print the second element of the list of names we defined we should refer to index `1`\n",
    "\n",
    "\n",
    "We can also refer to several indexes using a `:` and 1 or 2 indexes, known as slices:\n",
    "- `list_name[1:4]` would extract the second, third and forth element of the list (upper limit or the range is not extracted).\n",
    "- `list_name[:4]` would extract all the data from the beginning of the list until the forth element.\n",
    "- `list_name[1:]` would extract all the data from the second element to the end of the list."
   ]
  },
  {
   "cell_type": "code",
   "execution_count": 5,
   "id": "f431d854-1f7b-4683-9721-105072ae8a9e",
   "metadata": {},
   "outputs": [
    {
     "name": "stdout",
     "output_type": "stream",
     "text": [
      "John Smith\n"
     ]
    }
   ],
   "source": [
    "print(list_example[1])"
   ]
  },
  {
   "cell_type": "markdown",
   "id": "a2ae2b4d-64ef-4c70-82e4-f68fce333faf",
   "metadata": {},
   "source": [
    "It is also posible to use negative index in order to start counting from the end of the list. \n",
    "The last element of the list has index `-1`."
   ]
  },
  {
   "cell_type": "code",
   "execution_count": 6,
   "id": "3a7a78c6-3355-4f00-8476-0359b0531403",
   "metadata": {},
   "outputs": [
    {
     "name": "stdout",
     "output_type": "stream",
     "text": [
      "Patricia Summers\n"
     ]
    }
   ],
   "source": [
    "print(list_example[-1])"
   ]
  },
  {
   "cell_type": "markdown",
   "id": "21473bd0-1328-4372-be2a-8d85957c5715",
   "metadata": {
    "jp-MarkdownHeadingCollapsed": true
   },
   "source": [
    "<div class=\"alert alert-block alert-success\">\n",
    "<b>Interactive Check Point:</b>\n",
    "Try to print the first element in the other data structure examples: `tuple_example`, `dictionary_example`, `set_example`. What did you learn?"
   ]
  },
  {
   "cell_type": "markdown",
   "id": "3f8bd5a3-684a-4f4a-893f-90358898082c",
   "metadata": {},
   "source": [
    "<div class=\"alert alert-block alert-info\">\n",
    "<b>Note:</b>\n",
    "In Python 3.6.0 and later versions, dictionaries remember the order of element insertions, but in earlier versions this is not guaranteed. Keep that in mind to avoid compatibility issues when using the same code in different versions of Python."
   ]
  },
  {
   "cell_type": "markdown",
   "id": "3d8d8500",
   "metadata": {},
   "source": [
    "\n",
    "### For loops\n",
    "\n",
    "For loops are used to do something a *N* number of times or iterate array variables aforementioned to perform an action for every element on that array.\n",
    "\n",
    "#### Basic example:"
   ]
  },
  {
   "cell_type": "code",
   "execution_count": 7,
   "id": "4b89bd4e-7d1f-45a5-8052-b5f54466fb21",
   "metadata": {},
   "outputs": [
    {
     "name": "stdout",
     "output_type": "stream",
     "text": [
      "Pepito Jimenez\n",
      "John Smith\n",
      "Patricia Summers\n"
     ]
    }
   ],
   "source": [
    "for name in list_example:\n",
    "    print(name)"
   ]
  },
  {
   "cell_type": "markdown",
   "id": "2f81263e-69a5-4253-9035-b817f7006e19",
   "metadata": {},
   "source": [
    "It is often helpful to keep track of the number of iterations the loop has gone through. There are two ways to do this shown below."
   ]
  },
  {
   "cell_type": "markdown",
   "id": "9ba01574-d82d-4eef-9bf9-3198e5f05d60",
   "metadata": {},
   "source": [
    "> Method 1: set a count variable and update it in the loop"
   ]
  },
  {
   "cell_type": "code",
   "execution_count": 8,
   "id": "4130f7c8-7c98-42ed-a6b5-939072a00702",
   "metadata": {},
   "outputs": [
    {
     "name": "stdout",
     "output_type": "stream",
     "text": [
      "0 Pepito Jimenez\n",
      "1 John Smith\n",
      "2 Patricia Summers\n"
     ]
    }
   ],
   "source": [
    "count = 0\n",
    "for name in list_example:\n",
    "    print(count, name)\n",
    "    count += 1"
   ]
  },
  {
   "cell_type": "markdown",
   "id": "9b51b84d-2230-4770-910f-c1dbe329057f",
   "metadata": {},
   "source": [
    "> Method 2: use the builtin Python `enumerate()` function"
   ]
  },
  {
   "cell_type": "code",
   "execution_count": 9,
   "id": "5f983ba7-a48e-4390-a2c6-f07474e79444",
   "metadata": {},
   "outputs": [
    {
     "name": "stdout",
     "output_type": "stream",
     "text": [
      "0 Pepito Jimenez\n",
      "1 John Smith\n",
      "2 Patricia Summers\n"
     ]
    }
   ],
   "source": [
    "for count, name in enumerate(list_example):\n",
    "    print(count, name)"
   ]
  },
  {
   "cell_type": "markdown",
   "id": "e62e7cb3-cff9-4000-9dd3-abc3bbffdc85",
   "metadata": {},
   "source": [
    "Both give the same result, but enumerate allows us to accomplish the same task with less lines of code, which is often favorable!\n",
    "\n",
    "<div class=\"alert alert-block alert-success\">\n",
    "<b>Interactive Check Point:</b>\n",
    "Try to loop through `dictionary_example`."
   ]
  },
  {
   "cell_type": "markdown",
   "id": "41b9ff9b-baf5-46be-893a-98d54fb1652e",
   "metadata": {},
   "source": [
    "#### Scientific example:"
   ]
  },
  {
   "cell_type": "code",
   "execution_count": 10,
   "id": "1d7f9fb4-f047-4277-a21d-8947b17d0135",
   "metadata": {},
   "outputs": [
    {
     "name": "stdout",
     "output_type": "stream",
     "text": [
      "[13.556160000000002, 25.606080000000002, 40.375600000000006]\n"
     ]
    }
   ],
   "source": [
    "energies_kcal = [3.24, 6.12, 9.65]          # List of energies in kcal\n",
    "energies_kj = []                            # Empty list of energies in kJ\n",
    "conversion_factor = 4.184                   # Conversion factor from kcal to kj\n",
    "\n",
    "for energy in energies_kcal:\n",
    "    energy_kj = energy * conversion_factor\n",
    "    energies_kj.append(energy_kj)           # Append the converted energy to the kJ list of energies\n",
    "\n",
    "print(energies_kj)"
   ]
  },
  {
   "cell_type": "markdown",
   "id": "c900290f",
   "metadata": {},
   "source": [
    "### Logic statements\n",
    "\n",
    "Logic statements are used to compare different pairs of data and perform an action only if the statement is `True`.\n",
    "Several types of logic operations can be performed:\n",
    "- Equal to `==` checks if two values are identical\n",
    "- Not equal to `!=` checks if two values are different\n",
    "- Greater than `>`\n",
    "- Less than `<`\n",
    "- Greater or equal `>=`\n",
    "- Less or equal `<=`\n",
    "\n",
    "Several of these statements can be combined to create more complex conditions by using the following formulas \n",
    "- `and` checks that both conditions are matched\n",
    "- `or` checks that one or the other statements are **True**\n",
    "- `not` checks that the first contidion is matched but the later is not.\n",
    "\n",
    "The basic syntax of these statemets is\n",
    "```python\n",
    "if variable == value:   # some logic statement\n",
    "    # Do something\n",
    "else:                   # if statement above is false\n",
    "    # Do something\n",
    "```\n",
    "\n",
    "Using the variables we created above to define Pepito Jimenez we can check several conditions. "
   ]
  },
  {
   "cell_type": "code",
   "execution_count": 11,
   "id": "1f545018-e570-4db0-9a2e-23658a2f8f1a",
   "metadata": {},
   "outputs": [
    {
     "name": "stdout",
     "output_type": "stream",
     "text": [
      "This person is Pepito Jimenez\n"
     ]
    }
   ],
   "source": [
    "name = 'Pepito Jimenez'\n",
    "age = 53\n",
    "height = 1.73\n",
    "\n",
    "if name == 'Pepito Jimenez':\n",
    "    print('This person is Pepito Jimenez')\n",
    "else:\n",
    "    print('This person is not Pepito Jimenez')"
   ]
  },
  {
   "cell_type": "markdown",
   "id": "f3238a9c-d483-44fa-8b57-44fe1863ee81",
   "metadata": {},
   "source": [
    "We can write a more complex statement to check, for example, if he is older than 50 and shorter than 1.80m"
   ]
  },
  {
   "cell_type": "code",
   "execution_count": 12,
   "id": "eca3157e-41ad-437c-9cff-d324c466c91a",
   "metadata": {},
   "outputs": [
    {
     "name": "stdout",
     "output_type": "stream",
     "text": [
      "Pepito Jimenez is older than 50 and shorter than 1.80m\n"
     ]
    }
   ],
   "source": [
    "if age > 50 and height < 1.80:\n",
    "    print(f'{name} is older than 50 and shorter than 1.80m')\n",
    "else:\n",
    "    print(f'{name} is either younger than 50, taller than 1.80m or both.')"
   ]
  },
  {
   "cell_type": "markdown",
   "id": "60d2191b",
   "metadata": {},
   "source": [
    "### Functions\n",
    "\n",
    "A python function is a body of code that performs a specific task. \n",
    "\n",
    "The common structure of a function definition is:\n",
    "```python\n",
    "def function_name(args):\n",
    "    # Code\n",
    "\n",
    "    return value\n",
    "```\n",
    "\n",
    "Sometimes, certain pieces of code are very common and repeated several times in our scripts. A good example of this is converting units like we did before.\n",
    "\n",
    "It is good practice to turn repetitive code into a function to:\n",
    "1. save time\n",
    "2. reduce the number of lines in code\n",
    "3. avoid having to modify code in multiple locations\n",
    "\n",
    "In the energy conversion example, we can define a function that takes an energy value in kcal as an argument and returns the same energy in kJ."
   ]
  },
  {
   "cell_type": "code",
   "execution_count": 13,
   "id": "4c078418-3b1b-41e0-b58c-9b064fad9fbb",
   "metadata": {},
   "outputs": [],
   "source": [
    "def kcal_to_kj(energy):\n",
    "    \"\"\"\n",
    "    Convert energy in kcal to kJ.\n",
    "\n",
    "    Parameters\n",
    "    -----------\n",
    "    energy: float, required. Energy value to be converted.\n",
    "\n",
    "    Returns\n",
    "    --------\n",
    "    Energy in kJ units\n",
    "    \"\"\"\n",
    "    conversion_factor = 4.184 # Conversion factor from kcal to kj\n",
    "    energy_kj = energy * conversion_factor\n",
    "\n",
    "    return energy_kj"
   ]
  },
  {
   "cell_type": "markdown",
   "id": "8c604b15-7767-4a66-93ba-d4239a3f247d",
   "metadata": {},
   "source": [
    "The red text contained in the triple quotations is called a docstring. Docstrings are used to document what the function does, what parameters (if any) it accepts, and what (if any) values are returned. Executing the cell above does nothing because we are just defining the function. We must actually call the function to activate it, as shown below."
   ]
  },
  {
   "cell_type": "code",
   "execution_count": 14,
   "id": "89126734-b15d-416c-bada-5b08bce9826c",
   "metadata": {},
   "outputs": [
    {
     "name": "stdout",
     "output_type": "stream",
     "text": [
      "[13.556160000000002, 25.606080000000002, 40.375600000000006, 13.556160000000002, 25.606080000000002, 40.375600000000006]\n"
     ]
    }
   ],
   "source": [
    "for energy in energies_kcal:\n",
    "    energies_kj.append(kcal_to_kj(energy))           # Append the converted energy to the kJ list of energies\n",
    "print(energies_kj)"
   ]
  },
  {
   "cell_type": "markdown",
   "id": "5b9e3293-0622-406e-abcd-00642408a655",
   "metadata": {},
   "source": [
    "Functions are very important to keep our code as clean and organised as possible and require extensive commenting and documentation to explain their functionality and make them readible for future developers (and future versions of ourselves). You can pass a function name to Python's built-in `help()` function to print its docstring.\n",
    "\n",
    "<div class=\"alert alert-block alert-success\">\n",
    "<b>Interactive Check Point:</b>\n",
    "\n",
    "Print the docstring of our newly created function below."
   ]
  },
  {
   "cell_type": "markdown",
   "id": "c188e424",
   "metadata": {},
   "source": [
    "### File parsing\n",
    "\n",
    "In computational chemistry we deal with many plain text files as most of the software we use write the output of their calculations in this format.\n",
    "For that reason, having code to read these files and automatically extract the information we need is extremelly useful.\n",
    "\n",
    "There are several ways of reading a file and storing its lines in a variable.\n",
    "The two most common ones are:\n",
    "\n",
    "> Method 1:\n",
    "> ``` python\n",
    "> o_file = open(filename,'r')\n",
    ">text = o_file.readlines()\n",
    ">ofile.close()\n",
    ">```\n",
    "\n",
    "> Method 2:\n",
    "> ``` python\n",
    "> with open(filename,'r') as o_file:\n",
    ">     |text = o_file.readlines()\n",
    ">```\n",
    "\n",
    "The `r` argument in the `open()` function stands for read. Other arguments might be `w` for write if we want to write new information to the file, or `a` for append if we want to add new information at the end of the file.\n",
    "\n",
    "The `readlines()` function converts the file contents to a list of strings. Notice the dot notation; readlines acts on the file object given right before the dot. The function returns a list where each element of the list is a string corresponding to each line of the file."
   ]
  },
  {
   "cell_type": "code",
   "execution_count": 15,
   "id": "d423a58a-7560-4f84-ab35-786386c01994",
   "metadata": {},
   "outputs": [
    {
     "name": "stdout",
     "output_type": "stream",
     "text": [
      "First line:   Entering Gaussian System, Link 0=g16\n",
      "\n",
      "\n",
      "\n",
      "First 4 lines:  [' Entering Gaussian System, Link 0=g16\\n', ' Input=Et3NH.com\\n', ' Output=Et3NH.log\\n', ' Initial command:\\n', ' /usr/local/Gaussian/G16C/g16/l1.exe \"/home/heidi/Gau-290848.inp\" -scrdir=\"/home/heidi/\"\\n']\n"
     ]
    }
   ],
   "source": [
    "filename = 'Et3NH.log'\n",
    "with open(filename,'r') as o_file:\n",
    "    lines = o_file.readlines()\n",
    "\n",
    "print(\"First line: \", lines[0])\n",
    "print(\"\\n\")\n",
    "print(\"First 4 lines: \", lines[:5])"
   ]
  },
  {
   "cell_type": "markdown",
   "id": "cdc57bab-8057-4b96-9b01-41e1197fc162",
   "metadata": {},
   "source": [
    "#### Finding information in text\n",
    "\n",
    "There are several operations that are very common when parsing these kinds of files:\n",
    "- Extracting the **first** match of the desired pattern\n",
    "- Extracting the **last** match of the desired pattern\n",
    "- Extracting **all** the matches of the desired pattern\n",
    "\n",
    "For that, the following function is very useful:\n",
    "\n",
    "```python\n",
    "def find_all(text, target):\n",
    "    data = []\n",
    "    for line in text:\n",
    "        if target in line:\n",
    "            data.append(line)\n",
    "    return data\n",
    "```\n",
    "\n",
    "This will return a list of lines that contain the desired target.\n",
    "However, thess lines will still be plain text of the form. \n",
    "We can use the built in function `split` to separate this text by the desired character (default is a space).\n"
   ]
  },
  {
   "cell_type": "code",
   "execution_count": 16,
   "id": "a176d68c-1b14-47dd-aa19-8c348bcd0bb5",
   "metadata": {},
   "outputs": [
    {
     "name": "stdout",
     "output_type": "stream",
     "text": [
      "['SCF', 'Done:', 'E(RwB97XD)', '=', '-292.557208490', 'A.U.', 'after', '11', 'cycles']\n"
     ]
    }
   ],
   "source": [
    "line = ' SCF Done:  E(RwB97XD) =  -292.557208490     A.U. after   11 cycles\\n'\n",
    "elements = line.split()\n",
    "print(elements)"
   ]
  },
  {
   "cell_type": "markdown",
   "id": "fb34c709-7afb-4773-9273-1bd09f06eeab",
   "metadata": {},
   "source": [
    "If we select a different character instead of the default space, we would obtain a different partition.\n",
    "For example using '=' we would obtain"
   ]
  },
  {
   "cell_type": "code",
   "execution_count": 17,
   "id": "c62c3035-c39d-49bc-9378-ff846396dbed",
   "metadata": {},
   "outputs": [
    {
     "name": "stdout",
     "output_type": "stream",
     "text": [
      "[' SCF Done:  E(RwB97XD) ', '  -292.557208490     A.U. after   11 cycles\\n']\n"
     ]
    }
   ],
   "source": [
    "line = ' SCF Done:  E(RwB97XD) =  -292.557208490     A.U. after   11 cycles\\n'\n",
    "elements = line.split('=')\n",
    "print(elements)"
   ]
  },
  {
   "cell_type": "markdown",
   "id": "872fcce7-f8cc-4d71-a6d8-8538c2a271b6",
   "metadata": {},
   "source": [
    "<div class=\"alert alert-block alert-success\">\n",
    "<b>Interactive Check Point:</b>\n",
    "\n",
    "Use `find_all` to find all the occurences of \"SCF Done\" in this log file. Go ahead and save the result to a new variable."
   ]
  },
  {
   "cell_type": "code",
   "execution_count": 18,
   "id": "ed730ba5-d993-4943-81ad-8b61c3edb5e5",
   "metadata": {},
   "outputs": [],
   "source": [
    "# step 1: define the find_all function\n",
    "\n",
    "def find_all(text, target):\n",
    "    data = []\n",
    "    for line in text:\n",
    "        if target in line:\n",
    "            data.append(line)\n",
    "    return data\n",
    "\n",
    "# step 2: find and store occurences of 'SCF Done'.\n"
   ]
  },
  {
   "cell_type": "markdown",
   "id": "69aed108-b384-4bc6-aadb-6bd22294de99",
   "metadata": {},
   "source": [
    "<div class=\"alert alert-block alert-success\">\n",
    "<b>Interactive Check Point:</b>\n",
    "\n",
    "In the cell below, store the SCF Done energies to a list and save the number of cycles to a separate list."
   ]
  },
  {
   "cell_type": "code",
   "execution_count": 19,
   "id": "4c764378-acb3-4d3d-b816-3db085980df0",
   "metadata": {},
   "outputs": [],
   "source": [
    "### REMOVE THIS CELL before sending out to students\n",
    "\n",
    "data = find_all(lines, \"SCF Done\")\n",
    "energies = [float(line.split()[4]) for line in data]\n",
    "cycles = [int(line.split()[-2]) for line in data]"
   ]
  },
  {
   "cell_type": "code",
   "execution_count": 20,
   "id": "b22a5f88-20a8-4711-999a-1216692757d2",
   "metadata": {},
   "outputs": [
    {
     "data": {
      "text/plain": [
       "[' SCF Done:  E(RwB97XD) =  -292.557208490     A.U. after   11 cycles\\n',\n",
       " ' SCF Done:  E(RwB97XD) =  -292.590705566     A.U. after   11 cycles\\n',\n",
       " ' SCF Done:  E(RwB97XD) =  -292.601124459     A.U. after   10 cycles\\n',\n",
       " ' SCF Done:  E(RwB97XD) =  -292.603651379     A.U. after   10 cycles\\n',\n",
       " ' SCF Done:  E(RwB97XD) =  -292.604901059     A.U. after   10 cycles\\n',\n",
       " ' SCF Done:  E(RwB97XD) =  -292.605317074     A.U. after    9 cycles\\n',\n",
       " ' SCF Done:  E(RwB97XD) =  -292.605419697     A.U. after    9 cycles\\n',\n",
       " ' SCF Done:  E(RwB97XD) =  -292.605428015     A.U. after    8 cycles\\n',\n",
       " ' SCF Done:  E(RwB97XD) =  -292.605442129     A.U. after    8 cycles\\n',\n",
       " ' SCF Done:  E(RwB97XD) =  -292.605443760     A.U. after    7 cycles\\n',\n",
       " ' SCF Done:  E(RwB97XD) =  -292.605445979     A.U. after    7 cycles\\n',\n",
       " ' SCF Done:  E(RwB97XD) =  -292.605445979     A.U. after    1 cycles\\n']"
      ]
     },
     "execution_count": 20,
     "metadata": {},
     "output_type": "execute_result"
    }
   ],
   "source": [
    "data"
   ]
  },
  {
   "cell_type": "markdown",
   "id": "934a420b-4842-42b9-af1e-81b820d14da7",
   "metadata": {},
   "source": [
    "## 0.4 Pandas Dataframes\n",
    "\n",
    "pandas DataFrames are data structures that contain:\n",
    "\n",
    "- **Data** organized in two dimensions, rows and columns\n",
    "- **Labels** that correspond to the rows and columns"
   ]
  },
  {
   "cell_type": "code",
   "execution_count": 21,
   "id": "5a2747ca-0657-46fc-87ec-0d8e1ae2d997",
   "metadata": {},
   "outputs": [],
   "source": [
    "# populate a Pandas dataframe\n",
    "df = pd.DataFrame()\n",
    "df[\"Energies (A.U.)\"] = energies\n",
    "df[\"Cycles\"] = cycles"
   ]
  },
  {
   "cell_type": "code",
   "execution_count": 22,
   "id": "9bc4880d-6f1a-4f7e-b363-3d8c7aff95a4",
   "metadata": {},
   "outputs": [
    {
     "data": {
      "text/html": [
       "<div>\n",
       "<style scoped>\n",
       "    .dataframe tbody tr th:only-of-type {\n",
       "        vertical-align: middle;\n",
       "    }\n",
       "\n",
       "    .dataframe tbody tr th {\n",
       "        vertical-align: top;\n",
       "    }\n",
       "\n",
       "    .dataframe thead th {\n",
       "        text-align: right;\n",
       "    }\n",
       "</style>\n",
       "<table border=\"1\" class=\"dataframe\">\n",
       "  <thead>\n",
       "    <tr style=\"text-align: right;\">\n",
       "      <th></th>\n",
       "      <th>Energies (A.U.)</th>\n",
       "      <th>Cycles</th>\n",
       "    </tr>\n",
       "  </thead>\n",
       "  <tbody>\n",
       "    <tr>\n",
       "      <th>0</th>\n",
       "      <td>-292.557208</td>\n",
       "      <td>11</td>\n",
       "    </tr>\n",
       "    <tr>\n",
       "      <th>1</th>\n",
       "      <td>-292.590706</td>\n",
       "      <td>11</td>\n",
       "    </tr>\n",
       "    <tr>\n",
       "      <th>2</th>\n",
       "      <td>-292.601124</td>\n",
       "      <td>10</td>\n",
       "    </tr>\n",
       "    <tr>\n",
       "      <th>3</th>\n",
       "      <td>-292.603651</td>\n",
       "      <td>10</td>\n",
       "    </tr>\n",
       "    <tr>\n",
       "      <th>4</th>\n",
       "      <td>-292.604901</td>\n",
       "      <td>10</td>\n",
       "    </tr>\n",
       "    <tr>\n",
       "      <th>5</th>\n",
       "      <td>-292.605317</td>\n",
       "      <td>9</td>\n",
       "    </tr>\n",
       "    <tr>\n",
       "      <th>6</th>\n",
       "      <td>-292.605420</td>\n",
       "      <td>9</td>\n",
       "    </tr>\n",
       "    <tr>\n",
       "      <th>7</th>\n",
       "      <td>-292.605428</td>\n",
       "      <td>8</td>\n",
       "    </tr>\n",
       "    <tr>\n",
       "      <th>8</th>\n",
       "      <td>-292.605442</td>\n",
       "      <td>8</td>\n",
       "    </tr>\n",
       "    <tr>\n",
       "      <th>9</th>\n",
       "      <td>-292.605444</td>\n",
       "      <td>7</td>\n",
       "    </tr>\n",
       "    <tr>\n",
       "      <th>10</th>\n",
       "      <td>-292.605446</td>\n",
       "      <td>7</td>\n",
       "    </tr>\n",
       "    <tr>\n",
       "      <th>11</th>\n",
       "      <td>-292.605446</td>\n",
       "      <td>1</td>\n",
       "    </tr>\n",
       "  </tbody>\n",
       "</table>\n",
       "</div>"
      ],
      "text/plain": [
       "    Energies (A.U.)  Cycles\n",
       "0       -292.557208      11\n",
       "1       -292.590706      11\n",
       "2       -292.601124      10\n",
       "3       -292.603651      10\n",
       "4       -292.604901      10\n",
       "5       -292.605317       9\n",
       "6       -292.605420       9\n",
       "7       -292.605428       8\n",
       "8       -292.605442       8\n",
       "9       -292.605444       7\n",
       "10      -292.605446       7\n",
       "11      -292.605446       1"
      ]
     },
     "execution_count": 22,
     "metadata": {},
     "output_type": "execute_result"
    }
   ],
   "source": [
    "df"
   ]
  },
  {
   "cell_type": "markdown",
   "id": "c51972e3-2f68-499f-9647-2942d7f7c480",
   "metadata": {},
   "source": [
    "## 0.5 Plotting Data\n",
    "\n",
    "Data visualization is an important skill, and there are many, many Python packages that can be used to visualize data! We could probably design a 3-day course that just goes over data visualization because there is so much! Rather, we will just give a brief overview so you can be a little more familiar. \n",
    "\n",
    "### Pandas built in plotting\n",
    "Pandas DataFrame objects have a built in method called `plot` that calls matplotlib.pyplot and automates plotting the information contained in the DataFrame."
   ]
  },
  {
   "cell_type": "code",
   "execution_count": 23,
   "id": "b7d416c2-26e4-4188-8f6f-9e185891322f",
   "metadata": {},
   "outputs": [
    {
     "data": {
      "text/plain": [
       "<Axes: >"
      ]
     },
     "execution_count": 23,
     "metadata": {},
     "output_type": "execute_result"
    },
    {
     "data": {
      "image/png": "[encoded data removed]",
      "text/plain": [
       "<Figure size 432x288 with 1 Axes>"
      ]
     },
     "metadata": {
      "needs_background": "light"
     },
     "output_type": "display_data"
    }
   ],
   "source": [
    "df.plot()"
   ]
  },
  {
   "cell_type": "code",
   "execution_count": 24,
   "id": "1233c2a1-8902-4de2-9474-10ddf004a246",
   "metadata": {},
   "outputs": [
    {
     "data": {
      "text/plain": [
       "array([<Axes: xlabel='Optimization steps'>,\n",
       "       <Axes: xlabel='Optimization steps'>], dtype=object)"
      ]
     },
     "execution_count": 24,
     "metadata": {},
     "output_type": "execute_result"
    },
    {
     "data": {
      "image/png": "[encoded data removed]",
      "text/plain": [
       "<Figure size 432x288 with 2 Axes>"
      ]
     },
     "metadata": {
      "needs_background": "light"
     },
     "output_type": "display_data"
    }
   ],
   "source": [
    "# Let's improve this plot slightly\n",
    "df.plot(xlabel=\"Optimization steps\", subplots=True, title=\"Gaussian Optimization Process\")"
   ]
  },
  {
   "cell_type": "code",
   "execution_count": 25,
   "id": "de24e42f-18e3-4d67-92e5-467e87c68ac1",
   "metadata": {},
   "outputs": [
    {
     "data": {
      "text/plain": [
       "<Axes: title={'center': 'Gaussian Optimization Process'}, xlabel='Optimization steps'>"
      ]
     },
     "execution_count": 25,
     "metadata": {},
     "output_type": "execute_result"
    },
    {
     "data": {
      "image/png": "[encoded data removed]",
      "text/plain": [
       "<Figure size 432x288 with 1 Axes>"
      ]
     },
     "metadata": {
      "needs_background": "light"
     },
     "output_type": "display_data"
    },
    {
     "data": {
      "image/png": "[encoded data removed]",
      "text/plain": [
       "<Figure size 432x288 with 1 Axes>"
      ]
     },
     "metadata": {
      "needs_background": "light"
     },
     "output_type": "display_data"
    }
   ],
   "source": [
    "# line plots are usually better to show trends over a series, like a function convergence. \n",
    "# Since the number of cycles per SCF calculation is not something converging over time, it is better to display that a different way, like with a bar plot.\n",
    "df.plot(xlabel=\"Optimization steps\", y=\"Cycles\", kind=\"bar\", title=\"Gaussian Optimization Process\")\n",
    "df.plot(xlabel=\"Optimization steps\", y=\"Energies (A.U.)\", title=\"Gaussian Optimization Process\")"
   ]
  },
  {
   "cell_type": "markdown",
   "id": "b338eb24-602f-4163-a803-2da779ca4d11",
   "metadata": {},
   "source": [
    "### Matplotlib.pyplot\n",
    "\n",
    "Matplotlib’s primary purpose is to provide users with the tools and functionality to represent data graphically, making it easier to analyze and understand. Matplotlib functionality is quite vast. Here are some of the most common graph types supported by matplotlib:\n",
    "\n",
    "- Line Graph\n",
    "- Stem Plot\n",
    "- Bar chart\n",
    "- Histograms\n",
    "- Scatter Plot\n",
    "- Stack Plot\n",
    "- Box Plot\n",
    "- Pie Chart\n",
    "- Error Plot\n",
    "- Violin Plot\n",
    "- 3D Plots \n",
    "\n",
    "The essential components of a Matplotlib figure are Figures and Axes.\n",
    "\n",
    "- **Figures** in Matplotlib: The Figure object is the top-level container for all elements of the plot. It serves as the canvas on which the plot is drawn. You can think of it as the blank sheet of paper on which you’ll create your visualization.\n",
    "- **Axes** in Matplotlib: Axes are the rectangular areas within the figure where data is plotted. Each figure can contain one or more axes, arranged in rows and columns if necessary. Axes provide the coordinate system and are where most of the plotting occurs.\n",
    "\n",
    "Let's use matplotlib directly to have more control over our optimization process graph."
   ]
  },
  {
   "cell_type": "code",
   "execution_count": 26,
   "id": "9ec884a0-35f0-480c-9e6d-60f7bb33ef62",
   "metadata": {},
   "outputs": [
    {
     "data": {
      "image/png": "[encoded data removed]",
      "text/plain": [
       "<Figure size 576x288 with 2 Axes>"
      ]
     },
     "metadata": {
      "needs_background": "light"
     },
     "output_type": "display_data"
    }
   ],
   "source": [
    "fig, ax1 = plt.subplots(figsize=(8,4))\n",
    "#fig, ax1 = plt.subplots()\n",
    "ax1.bar(x=np.arange(len(df[\"Cycles\"])), height=df[\"Cycles\"], color=\"cyan\", fill=False, label=\"Cycles\")\n",
    "ax1.set_ylabel(\"Cycles\")\n",
    "ax1.set_xlabel(\"Optimization steps\")\n",
    "ax2 = ax1.twinx()\n",
    "ax2.plot(np.arange(len(df[\"Cycles\"])), df[\"Energies (A.U.)\"], color=\"red\", label=\"Energies (A.U.)\")\n",
    "ax2.set_ylabel(\"Energies (A.U.)\")\n",
    "plt.title(\"Gaussian Optimization\")\n",
    "#fig.legend(loc='upper right', bbox_to_anchor=(0.9, 0.88))\n",
    "ax1.set_ylim(0,13)\n",
    "ax2.set_ylim(-292.61,-292.547)\n",
    "ax1.legend(loc='upper left')\n",
    "ax2.legend(loc='upper right')\n",
    "plt.tight_layout()\n",
    "plt.savefig(\"opt_process_Et3NH.png\", bbox_inches=\"tight\")"
   ]
  },
  {
   "cell_type": "markdown",
   "id": "d9aca0d6-53b2-4f3b-bec1-81d1de08c3ca",
   "metadata": {},
   "source": [
    "<div class=\"alert alert-block alert-success\">\n",
    "<b>Interactive Check Point:</b>\n",
    "\n",
    "Write a function that takes a Gaussian log file as an argument, and generates a graph of the optimization results. </div>"
   ]
  },
  {
   "cell_type": "markdown",
   "id": "96140e7f-7533-48ef-ba3c-c5b0f84bc67d",
   "metadata": {
    "tags": [],
    "toc-hr-collapsed": true
   },
   "source": [
    "## 0.6 GitHub and Git\n",
    "\n",
    "Maybe you will want to build upon this script later, or share it with others. That's where [GitHub](https://github.com/skills/introduction-to-github) comes into play! \n",
    "\n",
    "<div class=\"alert alert-block alert-info\">\n",
    "<b>Note:</b>\n",
    "If you do not have a GitHub account, we encourage you to make one now! </div>\n",
    "\n",
    "GitHub is a cloud-based platform where you can store, share, and work together with others to write code (not just Python). \n",
    "\n",
    "Collaborative working, one of GitHub’s fundamental features, is made possible by the open-source software, [Git](https://github.com/git-guides), upon which GitHub is built.\n",
    "\n",
    "Git is a version control system that intelligently tracks changes in files. Git is particularly useful when you and a group of people are all making changes to the same files at the same time. Typically, to do this in a Git-based workflow, you would:\n",
    "- **Create** a **branch** off from the main copy of files that you (and your collaborators) are working on.\n",
    "- Make edits to the files independently and safely on your own personal branch and **commit** those changes.\n",
    "- Let Git intelligently **merge** your specific changes back into the main copy of files, so that your changes do not impact other people's updates.\n",
    "- Let Git keep track of your and other people's changes, so you all stay working on the most up-to-date version of the project.\n",
    "\n",
    "\n",
    "#### Git init\n",
    "The command `git init` turns any directory into a Git repository. \n",
    "\n",
    "#### Git clone\n",
    "Another way to start a Git respository is to use `git clone`. This is used when a remote repository already exists, so you can clone it to your local computer (this is how we get local versions of repositories on GitHub).\n",
    "\n",
    "#### Git add\n",
    "The `git add` command adds new or changed diles in your working directory to the Git staging area.\n",
    "git add is an important command – without it, no git commit would ever do anything. Something git add can have a reputation for being an unnecessary step in developmnt. But in reality, git add is an important and powerful tool. git add allows you to shape history without changing how you work.\n",
    "\n",
    "#### Git commit\n",
    "The command `git commit` creates a commit, which is like a snapshot of your repository in its current stage. It is good practice to commit often! Usually commits are done when you have made logical units of change to the repository. Over time commits should tell a story of the history of your repository and how it came to be in its current form. When you make a commit you must use the `-m` argument to pass a string that details what the commit contains. Before you can commit anything, you need to stage the commits. You can run `git status` to see all of the changes you have made and what changs are or are not staged.\n",
    "\n",
    "#### Git branch\n",
    "\n",
    "The `git branch ${branch_name}` command creates a branch (version copy) from your current location.\n",
    "\n",
    "#### Git pull\n",
    "Running `git pull` updates your current local working branch and all of the remove tracking branches. When you are working locally it is a good idea to run git pull right when you start working, and if it is a collaborative project doing this regularly in case someone else made changes to the remote repository at the same time. This is the most common way to update your repository, but there are other ways to make updates to specific branches, which we will not cover.\n",
    "\n",
    "#### Git push\n",
    "The command `git push` uploads all local branch commits to the corresponding remote branch.\n",
    "It is one of the four commands in Git that prompts interaction with the remote repository. You can also think of git push af update or publish.\n"
   ]
  }
 ],
 "metadata": {
  "kernelspec": {
   "display_name": "Python 3",
   "language": "python",
   "name": "python3"
  },
  "language_info": {
   "codemirror_mode": {
    "name": "ipython",
    "version": 3
   },
   "file_extension": ".py",
   "mimetype": "text/x-python",
   "name": "python",
   "nbconvert_exporter": "python",
   "pygments_lexer": "ipython3",
   "version": "3.9.4"
  }
 },
 "nbformat": 4,
 "nbformat_minor": 5
}
