{
 "cells": [
  {
   "cell_type": "markdown",
   "id": "8436df9b-3070-43c9-a3f7-66875235f444",
   "metadata": {},
   "source": [
    "# CREST and conformational searches"
   ]
  },
  {
   "cell_type": "markdown",
   "id": "cfd66ef3-fbfc-471f-a0f0-317d0adcbe07",
   "metadata": {},
   "source": [
    "CREST (originally abbreviated from Conformer-Rotamer Ensemble Sampling Tool) is a program for the automated exploration of the low-energy molecular chemical space. It functions as an OMP scheduler for calculations with efficient force-field and semiempirical quantum mechanical methods such as xTB, and provides a variety of capabilities for creation and analysis of structure ensembles."
   ]
  },
  {
   "cell_type": "code",
   "execution_count": null,
   "id": "2d7b9236-d170-4f26-902d-1c1dc2fcaeee",
   "metadata": {},
   "outputs": [],
   "source": []
  }
 ],
 "metadata": {
  "kernelspec": {
   "display_name": "Python 3 (ipykernel)",
   "language": "python",
   "name": "python3"
  },
  "language_info": {
   "codemirror_mode": {
    "name": "ipython",
    "version": 3
   },
   "file_extension": ".py",
   "mimetype": "text/x-python",
   "name": "python",
   "nbconvert_exporter": "python",
   "pygments_lexer": "ipython3",
   "version": "3.10.0"
  }
 },
 "nbformat": 4,
 "nbformat_minor": 5
}
