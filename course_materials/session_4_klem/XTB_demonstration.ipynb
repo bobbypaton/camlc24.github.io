{
 "cells": [
  {
   "cell_type": "markdown",
   "id": "c6e8e512",
   "metadata": {
    "tags": []
   },
   "source": [
    "## xTB via commandline"
   ]
  },
  {
   "cell_type": "markdown",
   "id": "75b0d0e1",
   "metadata": {},
   "source": [
    "https://xtb-docs.readthedocs.io/en/latest/contents.html"
   ]
  },
  {
   "cell_type": "markdown",
   "id": "8bf86b29",
   "metadata": {},
   "source": [
    "### Optimization"
   ]
  },
  {
   "cell_type": "markdown",
   "id": "a1114e26-4d90-47b3-a3da-adcb35c3fbfa",
   "metadata": {
    "tags": []
   },
   "source": [
    "\n",
    "Running a simple xtb optimization via command line\n",
    "\n",
    "```console\n",
    "xtb glutamine.xyz\n",
    "```\n",
    "\n",
    "# Input file can have many format (tmol,xyz,mol,sdf,pdb)\n",
    "# --ohess optimize then frequency calculation\n",
    "# -c charge\n",
    "# --alpb implicit solvation model (Analytical linearized Poisson-Boltzmann)\n",
    "# --uhf number of unpaired electrons if not 0"
   ]
  },
  {
   "cell_type": "code",
   "execution_count": null,
   "id": "971fc3cc",
   "metadata": {},
   "outputs": [],
   "source": [
    "# in the main output you can find orbital energies and occupation\n",
    "# the optimzed structure is in xtbopt.xyz\n",
    "\n",
    "! cat xtbopt.xyz"
   ]
  },
  {
   "cell_type": "code",
   "execution_count": null,
   "id": "c8ecf929",
   "metadata": {},
   "outputs": [],
   "source": [
    "# Let's look at some of the output files\n",
    "\n",
    "! cat charges"
   ]
  },
  {
   "cell_type": "code",
   "execution_count": null,
   "id": "009aadb0",
   "metadata": {},
   "outputs": [],
   "source": [
    "! cat wbo"
   ]
  },
  {
   "cell_type": "code",
   "execution_count": null,
   "id": "b69a1488",
   "metadata": {},
   "outputs": [],
   "source": [
    "! cat vibspectrum"
   ]
  },
  {
   "cell_type": "code",
   "execution_count": null,
   "id": "8e5c9217",
   "metadata": {},
   "outputs": [],
   "source": [
    "# We can get more printouts by changing default arguments in the $write part of the input\n",
    "\n",
    "text = \"$write\\n\"\n",
    "text += \"mulliken=true\\n\"              # Mulliken population analysis\n",
    "text += \"density=true\\n\"               # Density in cube format\n",
    "text += \"spin population=true\\n\"       # Spin population\n",
    "text += \"esp=true\\n\"                   # Electrostatic potential\n",
    "text += \"output file=properties.out\\n\" # Redirect property printout\n",
    "text += \"json=true\\n\"                  # Write json file with various info\n",
    "text += \"$end\"\n",
    "\n",
    "#open(\"xtb-printouts.inp\", \"w\")\n",
    "with open(\"xtb-printouts.inp\",\"w\") as f:\n",
    "    f.write(text)"
   ]
  },
  {
   "cell_type": "code",
   "execution_count": null,
   "id": "947c4b2c",
   "metadata": {},
   "outputs": [],
   "source": [
    "text = \"\"\"\n",
    "$write\n",
    "mulliken=true             \n",
    "density=true             \n",
    "spin population=true       \n",
    "esp=true                  \n",
    "output file=properties.out \n",
    "json=true                  \n",
    "$end\n",
    "\"\"\".lstrip()"
   ]
  },
  {
   "cell_type": "code",
   "execution_count": null,
   "id": "c30d35c1",
   "metadata": {
    "tags": []
   },
   "outputs": [],
   "source": [
    "! xtb xtbopt.xyz --input xtb-printouts.inp"
   ]
  },
  {
   "cell_type": "code",
   "execution_count": null,
   "id": "d657dbb9-2d3b-4b9e-ab58-ad920a29b522",
   "metadata": {
    "tags": []
   },
   "outputs": [],
   "source": [
    "# Some goodies included in the xTB package\n",
    "# Global Electrophilicity index\n",
    "\n",
    "! xtb xtbopt.xyz --vomega"
   ]
  },
  {
   "cell_type": "code",
   "execution_count": null,
   "id": "a098c1cd-6b72-4f53-b09d-03fbbd5a6e82",
   "metadata": {
    "tags": []
   },
   "outputs": [],
   "source": [
    "# Fukui indices\n",
    "\n",
    "! xtb xtbopt.xyz --vfukui"
   ]
  },
  {
   "cell_type": "code",
   "execution_count": null,
   "id": "4349d191-bfd0-43dc-8649-c84daa95e03e",
   "metadata": {
    "tags": []
   },
   "outputs": [],
   "source": [
    "# Vertical ionization potential and ionization energy\n",
    "\n",
    "! xtb xtbopt.xyz --vipea"
   ]
  },
  {
   "cell_type": "markdown",
   "id": "249176c5",
   "metadata": {},
   "source": [
    "### Constrained optimization"
   ]
  },
  {
   "cell_type": "code",
   "execution_count": null,
   "id": "d6cb4e13-d0d8-4b1f-8269-25f8c08ad384",
   "metadata": {},
   "outputs": [],
   "source": [
    "# Example for a dihedral scan\n",
    "# Generate file containing constrains\n",
    "\n",
    "text = \"$constrain\\n\"\n",
    "text += \"force constant=0.05\\n\"\n",
    "text += \"$scan\\n\"\n",
    "text += \"dihedral: 15,14,13,1,0.0;0.0,180,90\\n\"\n",
    "text += \"$end\"\n",
    "\n",
    "open(\"scan-1.inp\", \"w\")\n",
    "with open(\"scan-1.inp\",\"a\") as f:\n",
    "    f.write(text)"
   ]
  },
  {
   "cell_type": "code",
   "execution_count": null,
   "id": "e874c3c5-56c7-4e3e-9ab6-6b777044db78",
   "metadata": {},
   "outputs": [],
   "source": [
    "! xtb xtbopt.xyz --opt --input scan-1.inp >> scan-1.out"
   ]
  },
  {
   "cell_type": "code",
   "execution_count": null,
   "id": "47dc414e-2a9c-4f9f-9b1f-e2fe6cc3cf77",
   "metadata": {
    "tags": []
   },
   "outputs": [],
   "source": [
    "! cat xtbscan.log"
   ]
  },
  {
   "cell_type": "code",
   "execution_count": null,
   "id": "1b098c1d-d3de-4e91-be4e-a5e08f39b993",
   "metadata": {},
   "outputs": [],
   "source": [
    "# Example for a 2D bond length scan\n",
    "# For concerted scan number of steps has to match\n",
    "\n",
    "text = \"$constrain\\n\"\n",
    "text += \"force constant=0.05\\n\"\n",
    "text += \"$scan\\n\"\n",
    "text += \"mode=concerted\\n\"\n",
    "text += \"distance: 1,4,0.5;0.5,1.4,50\\n\"\n",
    "text += \"distance: 3,5,0.5;0.5,1.4,50\\n\"\n",
    "text += \"$end\"\n",
    "\n",
    "open(\"scan-2.inp\", \"w\")\n",
    "with open(\"scan-2.inp\",\"a\") as f:\n",
    "    f.write(text)"
   ]
  },
  {
   "cell_type": "markdown",
   "id": "89f53666",
   "metadata": {},
   "source": [
    "## CREST"
   ]
  },
  {
   "cell_type": "markdown",
   "id": "4f7de495",
   "metadata": {},
   "source": [
    "https://crest-lab.github.io/crest-docs/"
   ]
  },
  {
   "cell_type": "markdown",
   "id": "ae1e18d8",
   "metadata": {},
   "source": [
    "### Generating an ensemble"
   ]
  },
  {
   "cell_type": "code",
   "execution_count": null,
   "id": "317f385d-ff73-48d5-95e4-541f0da060bf",
   "metadata": {
    "tags": []
   },
   "outputs": [],
   "source": [
    "# Run a conformer search with Crest.\n",
    "# --noreftopo prevent a lot of initial crashes by not doing a topology check prior to the conformational search.\n",
    "\n",
    "! crest xtbopt.xyz --gfn2 --alpb water --noreftopo --T 24\n",
    "\n",
    "# --gfn2//gfnff this does sampling and opt with GFN-FF and singlepoint with GFN2-xTB for greater speeds."
   ]
  },
  {
   "cell_type": "code",
   "execution_count": null,
   "id": "26deccfc",
   "metadata": {
    "tags": []
   },
   "outputs": [],
   "source": [
    "# crest_best.xyz contains the most stable structure\n",
    "\n",
    "! cat crest_best.xyz"
   ]
  },
  {
   "cell_type": "code",
   "execution_count": null,
   "id": "6a1f989d",
   "metadata": {
    "tags": []
   },
   "outputs": [],
   "source": [
    "# crest_conformers.xyz contains the conformer ensemble\n",
    "# crest.energies contains the relative energies of the ensemble\n",
    "\n",
    "! cat crest_conformers.xyz"
   ]
  },
  {
   "cell_type": "code",
   "execution_count": null,
   "id": "19bd5643-e280-4ffc-9b18-faa175b79b70",
   "metadata": {},
   "outputs": [],
   "source": [
    "! mv crest_conformers.xyz glutamine_conformers.xyz"
   ]
  },
  {
   "cell_type": "markdown",
   "id": "622c853f",
   "metadata": {},
   "source": [
    "### Adding constrains"
   ]
  },
  {
   "cell_type": "code",
   "execution_count": null,
   "id": "155d085e-b62e-463e-8512-d7c33637047f",
   "metadata": {},
   "outputs": [],
   "source": [
    "# It is very common for crest to fragment/rearange weaker bonds, you might need to add constrains."
   ]
  },
  {
   "cell_type": "code",
   "execution_count": null,
   "id": "8ad6d990-f277-4fdb-bab3-5284c3cc7c91",
   "metadata": {},
   "outputs": [],
   "source": [
    "# TS conformers search can be performed in this way by constraining the TS mode. "
   ]
  },
  {
   "cell_type": "code",
   "execution_count": null,
   "id": "033635a7",
   "metadata": {},
   "outputs": [],
   "source": [
    "# Example of a constrains file for CREST\n",
    "\n",
    "text = \"$constrain\\n\"\n",
    "text += \"force constant=0.05\\n\"\n",
    "text += \"distance: 1,2,1.85\\n\"\n",
    "text += \"$end\"\n",
    "\n",
    "open(\"CREST-1.inp\", \"w\")\n",
    "with open(\"CREST-1.inp\",\"a\") as f:\n",
    "    f.write(text)"
   ]
  },
  {
   "cell_type": "code",
   "execution_count": null,
   "id": "9b24fa11",
   "metadata": {},
   "outputs": [],
   "source": [
    "! crest xtbopt.xyz --cinp CREST-1.inp --gfn2 --alpb water --noreftopo --T 24 >> CREST-1.out"
   ]
  },
  {
   "cell_type": "code",
   "execution_count": null,
   "id": "3110696f",
   "metadata": {},
   "outputs": [],
   "source": [
    "# Some usefull preset constrain arguments\n",
    "\n",
    "# --cbonds will constraints all covalent bonds\n",
    "# --cmetal constraints all M-X bonds\n",
    "# --cheavy constraints all heavy atom bonds"
   ]
  },
  {
   "cell_type": "code",
   "execution_count": null,
   "id": "4e61de10-0a54-426f-b88d-a3a774c83ea2",
   "metadata": {},
   "outputs": [],
   "source": [
    "# If constraining a large portion of the molecule it is recomanded to constrain atom this way instead:\n",
    "# This for example will constrain atom 1 to 26 and only perform sampling on atom 27 to 41\n",
    "\n",
    "text = \"$constrain\\n\"\n",
    "text += \"force constant=0.05\\n\"\n",
    "text += \"atoms: 1-26\\n\"\n",
    "text += \"$metadyn\"\n",
    "text += \"atoms: 27-41\"\n",
    "text += \"$end\"\n",
    "\n",
    "open(\"CREST-2.inp\", \"w\")\n",
    "with open(\"CREST-2.inp\",\"a\") as f:\n",
    "    f.write(text)"
   ]
  },
  {
   "cell_type": "code",
   "execution_count": null,
   "id": "dd345ec2-f025-4501-a4a8-18ee2c59603b",
   "metadata": {},
   "outputs": [],
   "source": [
    "# We can also generate the constrain input file automatically with:\n",
    "\n",
    "# ! crest xtbopt.xyz --constrain 1-26 --gfn2 --alpb water --noreftopo --T 24"
   ]
  },
  {
   "cell_type": "markdown",
   "id": "94aaeaf4",
   "metadata": {},
   "source": [
    "### Protonation/deprotonation module"
   ]
  },
  {
   "cell_type": "code",
   "execution_count": null,
   "id": "4d23bfc5",
   "metadata": {
    "tags": []
   },
   "outputs": [],
   "source": [
    "# Using the protonate tool to generate optimized protomers (no conf search)\n",
    "\n",
    "! crest xtbopt.xyz --protonate --T 24 >> protonate.out\n",
    "! cat protonated.xyz"
   ]
  },
  {
   "cell_type": "code",
   "execution_count": null,
   "id": "38dc5f32-c7a7-44af-97cf-1f4b35861463",
   "metadata": {},
   "outputs": [],
   "source": [
    "# You can specify another type of monoatomic ion (default is proton)\n",
    "# For example use --swel ca2+ for dicationic calcium\n",
    "\n",
    "! crest xtbopt.xyz --swel Na1+ --protonate --T 24 >> NaProtonate.out"
   ]
  },
  {
   "cell_type": "code",
   "execution_count": null,
   "id": "9d773617",
   "metadata": {},
   "outputs": [],
   "source": [
    "! crest xtbopt.xyz --deprotonate --T 24 >> deprotonate.out"
   ]
  },
  {
   "cell_type": "code",
   "execution_count": null,
   "id": "8a6ef443",
   "metadata": {},
   "outputs": [],
   "source": [
    "! crest xtbopt.xyz --tautomerize --T 24 >> tautomerize.out"
   ]
  },
  {
   "cell_type": "markdown",
   "id": "909f5142",
   "metadata": {},
   "source": [
    "### Non-covalent system"
   ]
  },
  {
   "cell_type": "code",
   "execution_count": null,
   "id": "ad8469b4-2a3f-4d31-ac44-ce79fecf928e",
   "metadata": {
    "tags": []
   },
   "outputs": [],
   "source": [
    "! crest waters.xyz --nci --gfn2 --alpb water --noreftopo --T 24 >> crest-water.out"
   ]
  },
  {
   "cell_type": "code",
   "execution_count": null,
   "id": "fb1f6fa6-d098-4d11-bc51-37679206555f",
   "metadata": {},
   "outputs": [],
   "source": [
    "! mv crest_conformers.xyz waters_conformers.xyz"
   ]
  },
  {
   "cell_type": "code",
   "execution_count": null,
   "id": "063b5447",
   "metadata": {},
   "outputs": [],
   "source": [
    "# Adds an ellipsoid wall potential around the system during the MTD sampling to prevent dissociation and then removed during optimization\n",
    "# can scale with -wscal"
   ]
  },
  {
   "cell_type": "code",
   "execution_count": null,
   "id": "4d646be1",
   "metadata": {
    "tags": []
   },
   "outputs": [],
   "source": [
    "! crest protonated-Na.xyz --nci --gfn2 --alpb water --noreftopo --T 24 >> crest_glutamine-Na.out"
   ]
  },
  {
   "cell_type": "code",
   "execution_count": null,
   "id": "193aa175-a758-4ac8-92ad-03dd51ca836d",
   "metadata": {},
   "outputs": [],
   "source": [
    "! mv crest_conformers.xyz glutamine-Na_conformers.xyz"
   ]
  },
  {
   "cell_type": "markdown",
   "id": "26d8ef6c",
   "metadata": {},
   "source": [
    "### Sorting ensembles"
   ]
  },
  {
   "cell_type": "code",
   "execution_count": null,
   "id": "04628fc9",
   "metadata": {
    "tags": []
   },
   "outputs": [],
   "source": [
    "# A ensemble of conformers can be refined using the cregen function of crest\n",
    "\n",
    "! crest xtbopt.xyz --cregen glutamine_conformers.xyz --ewin 3 "
   ]
  },
  {
   "cell_type": "code",
   "execution_count": null,
   "id": "2eede57e",
   "metadata": {},
   "outputs": [],
   "source": [
    "# --ewin (default 6kcal/mol)\n",
    "# --rthr RMSD treshold (default 0.125 Angstrom)\n",
    "# --ethr energy treshold between conformer pairs (default 0.05 kcal/mol)\n",
    "# --nmr --eqv NMR equivalencies\n",
    "# --temp (default is 298.15 K)\n",
    "# --notopo disables topology checks"
   ]
  },
  {
   "cell_type": "code",
   "execution_count": null,
   "id": "c291b0d6",
   "metadata": {},
   "outputs": [],
   "source": [
    "# This provides us with a sorted and filtered ensemble in crest_ensemble.xyz\n",
    "\n",
    "! cat crest_ensemble.xyz"
   ]
  },
  {
   "cell_type": "code",
   "execution_count": null,
   "id": "b533e43b-1b6b-4df4-a0bd-35d11ad3e4d0",
   "metadata": {
    "tags": []
   },
   "outputs": [],
   "source": [
    "# Cregen can also cluster structures based on diherdral angles\n",
    "\n",
    "! crest xtbopt.xyz --cregen glutamine_conformers.xyz --cluster"
   ]
  },
  {
   "cell_type": "markdown",
   "id": "dc6eb063",
   "metadata": {},
   "source": [
    "## ORCA-xTB implementation"
   ]
  },
  {
   "cell_type": "markdown",
   "id": "07015398",
   "metadata": {},
   "source": [
    "https://www.orcasoftware.de/tutorials_orca/multi/basics.html"
   ]
  },
  {
   "cell_type": "markdown",
   "id": "3ed49059",
   "metadata": {},
   "source": [
    "### Ground state optimization"
   ]
  },
  {
   "cell_type": "code",
   "execution_count": null,
   "id": "7705499a",
   "metadata": {},
   "outputs": [],
   "source": [
    "# A simple ORCA GS optimization using GFN2-XTB\n",
    "\n",
    "text = \"! pal8 GFN2-XTB opt NumFreq alpb(ch2cl2)\\n\"\n",
    "text += \"%geom\\n\"\n",
    "text += \"end\\n\"\n",
    "text += \"*xyz 0 1\\n\"\n",
    "\n",
    "open(\"ORCA_GS.inp\", \"w\")\n",
    "with open(\"ORCA_GS.inp\",\"a\") as f:\n",
    "    f.write(text)"
   ]
  },
  {
   "cell_type": "code",
   "execution_count": null,
   "id": "b0af1d0d",
   "metadata": {},
   "outputs": [],
   "source": [
    "! orca ORCA_OPT.inp > ORCA_OPT.out"
   ]
  },
  {
   "cell_type": "markdown",
   "id": "ff2abebc",
   "metadata": {},
   "source": [
    "### Transition state optimization"
   ]
  },
  {
   "cell_type": "code",
   "execution_count": null,
   "id": "9f40bca3",
   "metadata": {},
   "outputs": [],
   "source": [
    "# A simple ORCA TS optimization using GFN2-XTB\n",
    "\n",
    "text = \"! pal8 GFN2-XTB optTS NumFreq alpb(ch2cl2)\\n\"\n",
    "text += \"%geom\\n\"\n",
    "text += \"end\\n\"\n",
    "text += \"*xyz 0 1\\n\"\n",
    "\n",
    "open(\"ORCA_TS.inp\", \"w\")\n",
    "with open(\"ORCA_TS.inp\",\"a\") as f:\n",
    "    f.write(text)"
   ]
  },
  {
   "cell_type": "code",
   "execution_count": null,
   "id": "686c6fca",
   "metadata": {},
   "outputs": [],
   "source": [
    "! orca ORCA_TS.inp > ORCA_TS.out"
   ]
  },
  {
   "cell_type": "markdown",
   "id": "b9c4397e",
   "metadata": {},
   "source": [
    "### DFT/xTB multiscale calculations"
   ]
  },
  {
   "cell_type": "code",
   "execution_count": null,
   "id": "2e2f6100",
   "metadata": {},
   "outputs": [],
   "source": [
    "# A simple ORCA optimization using GFN2-XTB\n",
    "# Atoms not specified in the QMATOMS list will be ran using xTB\n",
    "\n",
    "text = \"! pal8 QM/XTB opt B3LYP DEF2-TZVPP\\n\"\n",
    "text += \"%QMMM QMATOMS {1:5,7:9}\\n\"\n",
    "text += \"end\\n\"\n",
    "text += \"end\\n\"\n",
    "text += \"%geom\\n\"\n",
    "text += \"end\\n\"\n",
    "text += \"*xyz 0 1\\n\"\n",
    "\n",
    "open(\"ORCA_QM-XTB.inp\", \"w\")\n",
    "with open(\"ORCA_QM-XTB.inp\",\"a\") as f:\n",
    "    f.write(text)"
   ]
  },
  {
   "cell_type": "code",
   "execution_count": null,
   "id": "38d196d7",
   "metadata": {},
   "outputs": [],
   "source": [
    "! orca ORCA_QM-XTB.inp > ORCA_QM-XTB.out"
   ]
  }
 ],
 "metadata": {
  "kernelspec": {
   "display_name": "Python 3 (ipykernel)",
   "language": "python",
   "name": "python3"
  },
  "language_info": {
   "codemirror_mode": {
    "name": "ipython",
    "version": 3
   },
   "file_extension": ".py",
   "mimetype": "text/x-python",
   "name": "python",
   "nbconvert_exporter": "python",
   "pygments_lexer": "ipython3",
   "version": "3.11.0"
  },
  "vscode": {
   "interpreter": {
    "hash": "2032d03594b30542061ec0f69d97c23324991cacc2f3404e3b3c7665b40704c0"
   }
  }
 },
 "nbformat": 4,
 "nbformat_minor": 5
}
