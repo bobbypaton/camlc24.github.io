{
 "cells": [
  {
   "cell_type": "markdown",
   "id": "0a58c66f-8986-4010-9fe4-89ed61dc6c56",
   "metadata": {},
   "source": [
    "# Python and its Scientific Modules\n",
    "---\n",
    "Questions:\n",
    "- \"How do I install and use Python modules?\"\n",
    "- \"How do I interact with Python code?\"\n",
    "- \"What are some popular scientific Python packages?\"\n",
    "\n",
    "Objectives:\n",
    "- \"Ensure students can access a Linux terminal and have basic requirements installed.\"\n",
    "- \"Understand how Python packages are distributed and the benefits of environment management.\"\n",
    "- \"Understand how to import Python packages or call them via the command line interface.\"\n",
    "\n",
    "---"
   ]
  },
  {
   "cell_type": "markdown",
   "id": "8d07c418-3201-4f8d-8274-b9e681b96b21",
   "metadata": {},
   "source": [
    "### Instructor notes (remove before merging to CAMLC24)\n",
    "\n",
    "I think we can use the Molecular Sciences Software Institute's free courses on [Python Scripting for Computational Molecular Science](https://education.molssi.org/python_scripting_cms/01-introduction/index.html) and [Python Package Best Practives](https://education.molssi.org/python-package-best-practices/) to build a lot of this material"
   ]
  },
  {
   "cell_type": "markdown",
   "id": "aa6853c2-b5c6-40cd-9ad7-d61bb4e449d9",
   "metadata": {},
   "source": [
    "### Python Basics"
   ]
  },
  {
   "cell_type": "code",
   "execution_count": 14,
   "id": "987bfd8f-5515-450f-9d98-e4e4450b0bc9",
   "metadata": {},
   "outputs": [],
   "source": [
    "# It is best practice to import all modules at the top of your file\n",
    "\n",
    "# It is also best practice to be liberal with comments, so if you come \n",
    "#  back to the code or someone else tries to read your code it is more \n",
    "#  easily understood.\n",
    "\n",
    "# To make the code easier to look at the sentence above was separated into new \n",
    "#  new lines. How you decide to format things like that is personal preference.\n",
    "\n",
    "import numpy #https://numpy.org\n",
    "import matplotlib #https://matplotlib.org\n",
    "import rdkit #http://www.rdkit.org/docs/index.html\n",
    "import pandas #https://pandas.pydata.org/docs/getting_started/index.html"
   ]
  },
  {
   "cell_type": "markdown",
   "id": "d25f9518-c72a-4a1f-a5e5-8851f88683c2",
   "metadata": {},
   "source": [
    "If you receive a \"ModuleNotFoundError\" message, try executing in a new cell \n",
    "> pip install \\\\$module \n",
    "\n",
    "where \\\\$module is the name of the module not found."
   ]
  },
  {
   "cell_type": "markdown",
   "id": "db9f0f02-3293-48a1-b33c-69287480a81e",
   "metadata": {},
   "source": [
    "#### Python Packages and Environment Management"
   ]
  },
  {
   "cell_type": "markdown",
   "id": "8ba55ecf-dd2d-4c57-a8e1-3c01315346b1",
   "metadata": {},
   "source": [
    "There are a variety of ways to install packages. You can install the source code from the associated website, or from a GitHub repository, or from a distribution platform. PIP is an example of a Python package manager and distribution platform. You can peruse the Python packages available for installation via PIP on the [Python Package Index (PyPI) distribution platform](https://pypi.org).\n",
    "\n",
    "[Anaconda](https://anaconda.org) (also see [miniconda](https://docs.anaconda.com/free/miniconda/)) is also a package manager, but it is much more than that. Besides installing and updating packages Anaconda also creates and manages virtual environments. You can think of a virtual environment as a new computer, independent of any other environment on the computer. This becomes very important if a package you want to use requires a specific version of another package (for example, maybe it requires a Python version < 3.0), but you have other packages that require other versions of Python. You can use the conda create command to create a virtual environment that is tailored to the dependency requirements of specific packages or systems. If the package has been distributed on Anaconda you will be able to find conda installation instructions for it. Or you can also use pip to install the package- just make sure you are using the pip assigned to your conda environment (this can be checked by running which pip and making sure it is located in the path of your conda environment). Lastly, Anaconda supports management for non-Python packages, so it is much broader that pip/PyPi which is only Python.\n",
    "\n",
    "When working on shared computing resources it is often required to use virtual environmets by using conda or venv. [venv](https://docs.python.org/3/library/venv.html) is solely a virtual environment manager and can be used similarly to Anaconda, however, it is only for managing Python packages. "
   ]
  },
  {
   "cell_type": "code",
   "execution_count": null,
   "id": "528ca347-7254-4d34-9557-bff852a2d7bf",
   "metadata": {},
   "outputs": [],
   "source": []
  }
 ],
 "metadata": {
  "kernelspec": {
   "display_name": "Python 3 (ipykernel)",
   "language": "python",
   "name": "python3"
  },
  "language_info": {
   "codemirror_mode": {
    "name": "ipython",
    "version": 3
   },
   "file_extension": ".py",
   "mimetype": "text/x-python",
   "name": "python",
   "nbconvert_exporter": "python",
   "pygments_lexer": "ipython3",
   "version": "3.10.0"
  }
 },
 "nbformat": 4,
 "nbformat_minor": 5
}
