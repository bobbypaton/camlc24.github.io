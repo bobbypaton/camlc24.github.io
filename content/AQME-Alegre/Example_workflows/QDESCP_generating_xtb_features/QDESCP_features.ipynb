{
 "cells": [
  {
   "attachments": {},
   "cell_type": "markdown",
   "metadata": {},
   "source": [
    "#### Organic molecule with SMILES input, CSEARCH performs conformational sampling with RDKit, QDESCP produces xtb properties\n"
   ]
  },
  {
   "attachments": {},
   "cell_type": "markdown",
   "metadata": {},
   "source": [
    "###### Step 1: CSEARCH to produce SDF files"
   ]
  },
  {
   "cell_type": "code",
   "execution_count": null,
   "metadata": {},
   "outputs": [],
   "source": [
    "import glob\n",
    "from aqme.csearch import csearch\n",
    "from aqme.qdescp import qdescp\n",
    "\n",
    "# set working directory, SDF creation folder, name and SMILES string\n",
    "name = 'test'\n",
    "file = 'test.csv'\n",
    "\n",
    "# run CSEARCH conformational sampling, specifying:\n",
    "# 1) RDKit sampling (program='rdkit')\n",
    "# 2) SMILES strings in CSV (input=file)\n",
    "csearch(program='rdkit',input=file)"
   ]
  },
  {
   "attachments": {},
   "cell_type": "markdown",
   "metadata": {},
   "source": [
    "###### Step 2 : QDESCP to produces properties"
   ]
  },
  {
   "cell_type": "code",
   "execution_count": null,
   "metadata": {},
   "outputs": [],
   "source": [
    "# set SDF filenames and directory where the new com files will be created\n",
    "sdf_rdkit_files = glob.glob(f'CSEARCH/*.sdf')\n",
    "\n",
    "# run QDESCP descriptor generator, with:\n",
    "# 1) Program xTB (program='xtb')\n",
    "# 1) Files to run (files=sdf_rdkit_files)\n",
    "# 2) Include Boltzmann averaging and RDKit descriptors (boltz=True)\n",
    "qdescp(program='xtb',files=sdf_rdkit_files)\n",
    " "
   ]
  },
  {
   "cell_type": "code",
   "execution_count": null,
   "metadata": {},
   "outputs": [],
   "source": []
  }
 ],
 "metadata": {
  "kernelspec": {
   "display_name": "base",
   "language": "python",
   "name": "python3"
  },
  "language_info": {
   "codemirror_mode": {
    "name": "ipython",
    "version": 3
   },
   "file_extension": ".py",
   "mimetype": "text/x-python",
   "name": "python",
   "nbconvert_exporter": "python",
   "pygments_lexer": "ipython3",
   "version": "3.9.7 (default, Sep 16 2021, 16:59:28) [MSC v.1916 64 bit (AMD64)]"
  },
  "vscode": {
   "interpreter": {
    "hash": "6c100345108a7047ea96fae483cb64f49bdc23a8b225db90a5987a96959e820b"
   }
  }
 },
 "nbformat": 4,
 "nbformat_minor": 5
}
